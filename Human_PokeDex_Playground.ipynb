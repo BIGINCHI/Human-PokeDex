{
  "nbformat": 4,
  "nbformat_minor": 0,
  "metadata": {
    "colab": {
      "name": "Human PokeDex Playground.ipynb",
      "provenance": [],
      "mount_file_id": "https://github.com/newb-dev-1008/Human-PokeDex/blob/master/Human_PokeDex_Playground.ipynb",
      "authorship_tag": "ABX9TyOxWfM+hWjj1wiZA8xkehvx",
      "include_colab_link": true
    },
    "kernelspec": {
      "name": "python3",
      "display_name": "Python 3"
    },
    "language_info": {
      "name": "python"
    }
  },
  "cells": [
    {
      "cell_type": "markdown",
      "metadata": {
        "id": "view-in-github",
        "colab_type": "text"
      },
      "source": [
        "<a href=\"https://colab.research.google.com/github/newb-dev-1008/Human-PokeDex/blob/master/Human_PokeDex_Playground.ipynb\" target=\"_parent\"><img src=\"https://colab.research.google.com/assets/colab-badge.svg\" alt=\"Open In Colab\"/></a>"
      ]
    },
    {
      "cell_type": "markdown",
      "metadata": {
        "id": "RHu1mDcHAcPU"
      },
      "source": [
        "# **Human PokeDex - Playground Notebook**\n",
        "\n",
        "This notebook will be used for trying parts of the software to test their implementation."
      ]
    },
    {
      "cell_type": "markdown",
      "metadata": {
        "id": "_rgxQ9qbApnx"
      },
      "source": [
        "# **Data Augmentation**"
      ]
    },
    {
      "cell_type": "markdown",
      "metadata": {
        "id": "N3V9fH4sBNXr"
      },
      "source": [
        "## **Functions for augmentation**"
      ]
    },
    {
      "cell_type": "code",
      "metadata": {
        "id": "h-MlaMMJGyvv",
        "colab": {
          "base_uri": "https://localhost:8080/"
        },
        "outputId": "7b6a316a-630a-4766-bc2a-47832ef2944d"
      },
      "source": [
        "!pip install Augmentor"
      ],
      "execution_count": 1,
      "outputs": [
        {
          "output_type": "stream",
          "text": [
            "Requirement already satisfied: Augmentor in /usr/local/lib/python3.7/dist-packages (0.2.8)\n",
            "Requirement already satisfied: future>=0.16.0 in /usr/local/lib/python3.7/dist-packages (from Augmentor) (0.16.0)\n",
            "Requirement already satisfied: numpy>=1.11.0 in /usr/local/lib/python3.7/dist-packages (from Augmentor) (1.19.5)\n",
            "Requirement already satisfied: Pillow>=5.2.0 in /usr/local/lib/python3.7/dist-packages (from Augmentor) (7.1.2)\n",
            "Requirement already satisfied: tqdm>=4.9.0 in /usr/local/lib/python3.7/dist-packages (from Augmentor) (4.41.1)\n"
          ],
          "name": "stdout"
        }
      ]
    },
    {
      "cell_type": "code",
      "metadata": {
        "id": "U795lUjnHr2K",
        "colab": {
          "base_uri": "https://localhost:8080/"
        },
        "outputId": "63968125-4174-4bd1-b74c-283bfff5d80b"
      },
      "source": [
        "!pip install --upgrade imutils"
      ],
      "execution_count": 2,
      "outputs": [
        {
          "output_type": "stream",
          "text": [
            "Requirement already up-to-date: imutils in /usr/local/lib/python3.7/dist-packages (0.5.4)\n"
          ],
          "name": "stdout"
        }
      ]
    },
    {
      "cell_type": "code",
      "metadata": {
        "id": "Khtxk9lCwvpE",
        "colab": {
          "base_uri": "https://localhost:8080/"
        },
        "outputId": "0984f16b-c3ee-4dc3-a6ca-0fb20709f1b2"
      },
      "source": [
        "!pip install --upgrade firebase-admin"
      ],
      "execution_count": 3,
      "outputs": [
        {
          "output_type": "stream",
          "text": [
            "Requirement already up-to-date: firebase-admin in /usr/local/lib/python3.7/dist-packages (4.5.3)\n",
            "Requirement already satisfied, skipping upgrade: cachecontrol>=0.12.6 in /usr/local/lib/python3.7/dist-packages (from firebase-admin) (0.12.6)\n",
            "Requirement already satisfied, skipping upgrade: google-cloud-storage>=1.18.0 in /usr/local/lib/python3.7/dist-packages (from firebase-admin) (1.18.1)\n",
            "Requirement already satisfied, skipping upgrade: google-api-core[grpc]<2.0.0dev,>=1.14.0; platform_python_implementation != \"PyPy\" in /usr/local/lib/python3.7/dist-packages (from firebase-admin) (1.26.2)\n",
            "Requirement already satisfied, skipping upgrade: google-cloud-firestore>=1.4.0; platform_python_implementation != \"PyPy\" in /usr/local/lib/python3.7/dist-packages (from firebase-admin) (1.7.0)\n",
            "Requirement already satisfied, skipping upgrade: google-api-python-client>=1.7.8 in /usr/local/lib/python3.7/dist-packages (from firebase-admin) (1.12.8)\n",
            "Requirement already satisfied, skipping upgrade: requests in /usr/local/lib/python3.7/dist-packages (from cachecontrol>=0.12.6->firebase-admin) (2.23.0)\n",
            "Requirement already satisfied, skipping upgrade: msgpack>=0.5.2 in /usr/local/lib/python3.7/dist-packages (from cachecontrol>=0.12.6->firebase-admin) (1.0.2)\n",
            "Requirement already satisfied, skipping upgrade: google-resumable-media<0.5.0dev,>=0.3.1 in /usr/local/lib/python3.7/dist-packages (from google-cloud-storage>=1.18.0->firebase-admin) (0.4.1)\n",
            "Requirement already satisfied, skipping upgrade: google-cloud-core<2.0dev,>=1.0.0 in /usr/local/lib/python3.7/dist-packages (from google-cloud-storage>=1.18.0->firebase-admin) (1.0.3)\n",
            "Requirement already satisfied, skipping upgrade: google-auth>=1.2.0 in /usr/local/lib/python3.7/dist-packages (from google-cloud-storage>=1.18.0->firebase-admin) (1.28.0)\n",
            "Requirement already satisfied, skipping upgrade: googleapis-common-protos<2.0dev,>=1.6.0 in /usr/local/lib/python3.7/dist-packages (from google-api-core[grpc]<2.0.0dev,>=1.14.0; platform_python_implementation != \"PyPy\"->firebase-admin) (1.53.0)\n",
            "Requirement already satisfied, skipping upgrade: protobuf>=3.12.0 in /usr/local/lib/python3.7/dist-packages (from google-api-core[grpc]<2.0.0dev,>=1.14.0; platform_python_implementation != \"PyPy\"->firebase-admin) (3.12.4)\n",
            "Requirement already satisfied, skipping upgrade: six>=1.13.0 in /usr/local/lib/python3.7/dist-packages (from google-api-core[grpc]<2.0.0dev,>=1.14.0; platform_python_implementation != \"PyPy\"->firebase-admin) (1.15.0)\n",
            "Requirement already satisfied, skipping upgrade: setuptools>=40.3.0 in /usr/local/lib/python3.7/dist-packages (from google-api-core[grpc]<2.0.0dev,>=1.14.0; platform_python_implementation != \"PyPy\"->firebase-admin) (54.2.0)\n",
            "Requirement already satisfied, skipping upgrade: pytz in /usr/local/lib/python3.7/dist-packages (from google-api-core[grpc]<2.0.0dev,>=1.14.0; platform_python_implementation != \"PyPy\"->firebase-admin) (2018.9)\n",
            "Requirement already satisfied, skipping upgrade: packaging>=14.3 in /usr/local/lib/python3.7/dist-packages (from google-api-core[grpc]<2.0.0dev,>=1.14.0; platform_python_implementation != \"PyPy\"->firebase-admin) (20.9)\n",
            "Requirement already satisfied, skipping upgrade: grpcio<2.0dev,>=1.29.0; extra == \"grpc\" in /usr/local/lib/python3.7/dist-packages (from google-api-core[grpc]<2.0.0dev,>=1.14.0; platform_python_implementation != \"PyPy\"->firebase-admin) (1.32.0)\n",
            "Requirement already satisfied, skipping upgrade: uritemplate<4dev,>=3.0.0 in /usr/local/lib/python3.7/dist-packages (from google-api-python-client>=1.7.8->firebase-admin) (3.0.1)\n",
            "Requirement already satisfied, skipping upgrade: google-auth-httplib2>=0.0.3 in /usr/local/lib/python3.7/dist-packages (from google-api-python-client>=1.7.8->firebase-admin) (0.0.4)\n",
            "Requirement already satisfied, skipping upgrade: httplib2<1dev,>=0.15.0 in /usr/local/lib/python3.7/dist-packages (from google-api-python-client>=1.7.8->firebase-admin) (0.17.4)\n",
            "Requirement already satisfied, skipping upgrade: urllib3!=1.25.0,!=1.25.1,<1.26,>=1.21.1 in /usr/local/lib/python3.7/dist-packages (from requests->cachecontrol>=0.12.6->firebase-admin) (1.24.3)\n",
            "Requirement already satisfied, skipping upgrade: certifi>=2017.4.17 in /usr/local/lib/python3.7/dist-packages (from requests->cachecontrol>=0.12.6->firebase-admin) (2020.12.5)\n",
            "Requirement already satisfied, skipping upgrade: chardet<4,>=3.0.2 in /usr/local/lib/python3.7/dist-packages (from requests->cachecontrol>=0.12.6->firebase-admin) (3.0.4)\n",
            "Requirement already satisfied, skipping upgrade: idna<3,>=2.5 in /usr/local/lib/python3.7/dist-packages (from requests->cachecontrol>=0.12.6->firebase-admin) (2.10)\n",
            "Requirement already satisfied, skipping upgrade: pyasn1-modules>=0.2.1 in /usr/local/lib/python3.7/dist-packages (from google-auth>=1.2.0->google-cloud-storage>=1.18.0->firebase-admin) (0.2.8)\n",
            "Requirement already satisfied, skipping upgrade: rsa<5,>=3.1.4; python_version >= \"3.6\" in /usr/local/lib/python3.7/dist-packages (from google-auth>=1.2.0->google-cloud-storage>=1.18.0->firebase-admin) (4.7.2)\n",
            "Requirement already satisfied, skipping upgrade: cachetools<5.0,>=2.0.0 in /usr/local/lib/python3.7/dist-packages (from google-auth>=1.2.0->google-cloud-storage>=1.18.0->firebase-admin) (4.2.1)\n",
            "Requirement already satisfied, skipping upgrade: pyparsing>=2.0.2 in /usr/local/lib/python3.7/dist-packages (from packaging>=14.3->google-api-core[grpc]<2.0.0dev,>=1.14.0; platform_python_implementation != \"PyPy\"->firebase-admin) (2.4.7)\n",
            "Requirement already satisfied, skipping upgrade: pyasn1<0.5.0,>=0.4.6 in /usr/local/lib/python3.7/dist-packages (from pyasn1-modules>=0.2.1->google-auth>=1.2.0->google-cloud-storage>=1.18.0->firebase-admin) (0.4.8)\n"
          ],
          "name": "stdout"
        }
      ]
    },
    {
      "cell_type": "code",
      "metadata": {
        "id": "LJDEv1J3Bc1o"
      },
      "source": [
        "import numpy as np\n",
        "from imutils import paths\n",
        "import Augmentor\n",
        "import cv2\n",
        "import os\n",
        "import firebase_admin\n",
        "from firebase_admin import firestore\n",
        "from firebase_admin import credentials\n",
        "\n",
        "# Function to retrieve person's name\n",
        "def firestoreName():\n",
        "  cred = credentials.Certificate(\"/content/drive/MyDrive/Open Lab/Private Keys/human-pokedex-firebase-adminsdk-37ou3-147a3cdcff.json\")\n",
        "  firebase_admin.initialize_app(cred, {\n",
        "  'projectId': 'human-pokedex',\n",
        "  })\n",
        "  db = firestore.client()\n",
        "  users_ref = db.collection(u'New Users')\n",
        "  docs = users_ref.stream()\n",
        "\n",
        "  userName = \"\"\n",
        "\n",
        "  for doc in docs:\n",
        "    dict1 = doc.to_dict()\n",
        "    userName = dict1['Username']\n",
        "  \n",
        "  return userName\n",
        "\n",
        "# Function to blur the image\n",
        "def blurImage(imagePath, userName, i):\n",
        "    old_image = cv2.imread(imagePath)\n",
        "    image = old_image.copy()\n",
        "    blurredImage = cv2.blur(image, (3, 3))\n",
        "    filename = \"blurred_\" + userName + \"_\" + str(i) + \".jpg\"\n",
        "    os.chdir(r'/content/drive/MyDrive/Open Lab/Datasets 1/' + userName)\n",
        "    cv2.imwrite(filename, blurredImage) \n",
        "\n",
        "# Function to sharpen the image\n",
        "def sharpenImage(imagePath, userName, i):\n",
        "    old_image = cv2.imread(imagePath)\n",
        "    image = old_image.copy()\n",
        "    kernel = np.array([[-1, -1, -1], [-1, 9, -1], [-1, -1, -1]])\n",
        "    sharpImage = cv2.filter2D(image, -1, kernel)\n",
        "    filename = \"sharpened_\" + userName + \"_\" + str(i) + \".jpg\"\n",
        "    os.chdir(r'/content/drive/MyDrive/Open Lab/Datasets 1/' + userName)\n",
        "    cv2.imwrite(filename, sharpImage)\n",
        "\n",
        "# Function to add Sepia effect \n",
        "def sepiaImage(imagePath, userName, i):\n",
        "    old_image = cv2.imread(imagePath)\n",
        "    image = old_image.copy()\n",
        "    kernel = np.array([[0.272, 0.534, 0.131], [0.349, 0.686, 0.168], [0.393, 0.769, 0.189]])\n",
        "    sepiaImage = cv2.filter2D(image, -1, kernel)\n",
        "    filename = \"sepia_\" + userName +  \"_\" + str(i) + \".jpg\"\n",
        "    os.chdir(r'/content/drive/MyDrive/Open Lab/Datasets 1/' + userName)\n",
        "    cv2.imwrite(filename, sepiaImage)\n",
        "\n",
        "# Function to add brightness\n",
        "def brightImage(imagePath, userName, i):\n",
        "    old_image = cv2.imread(imagePath)\n",
        "    image = old_image.copy()\n",
        "    brightImage = cv2.convertScaleAbs(image, 3)\n",
        "    filename = \"bright_\" + userName +  \"_\" + str(i) + \".jpg\"\n",
        "    os.chdir(r'/content/drive/MyDrive/Open Lab/Datasets 1/' + userName)\n",
        "    cv2.imwrite(filename, brightImage)\n",
        "\n",
        "# Tilt image to certain angles\n",
        "def tiltedImage(imagePath, userName):\n",
        "    p = Augmentor.Pipeline(imagePath)\n",
        "    p.rotate(1, 15, 15)\n",
        "    old_image = cv2.imread(imagePath)\n",
        "    # image = old_image.copy()\n",
        "    # tilted_images, label = p.sample(10)\n",
        "    # os.chdir(r'/content/drive/MyDrive/Open Lab/Datasets 1/' + userName)\n",
        "    # for i in range(len(tilted_images)):\n",
        "    #     filename = \"tilted_\" + userName + \"_\" + str(i) + \".jpg\"\n",
        "    #     cv2.imwrite(filename, tilted_images[i])\n",
        "    \n",
        "# Mirror image\n",
        "def mirrorImage(imagePath, userName):\n",
        "    p = Augmentor.Pipeline(imagePath)\n",
        "    p.flip_left_right(probability = 1)\n",
        "    old_image = cv2.imread(imagePath)\n",
        "    # image = old_image.copy()\n",
        "    # flipped_images, label = p.sample(10)\n",
        "    # os.chdir(r'/content/drive/MyDrive/Open Lab/Datasets 1/' + userName)\n",
        "    # for i in range(len(flipped_images)):\n",
        "    #     filename = \"flipped_\" + userName + \"_\" + str(i) + \".jpg\"\n",
        "    #     cv2.imwrite(filename, flipped_images[i])\n",
        "\n",
        "# Shearing image\n",
        "def shearImage(imagePath, userName):\n",
        "    p = Augmentor.Pipeline(imagePath)\n",
        "    p.shear(probability = 1, max_shear_left = 15, max_shear_right = 15)\n",
        "    old_image = cv2.imread(imagePath)\n",
        "    # image = old_image.copy()\n",
        "    # sheared_images, label = p.sample(10)\n",
        "    # os.chdir(r'/content/drive/MyDrive/Open Lab/Datasets 1/' + userName)\n",
        "    # for i in range(len(sheared_images)):\n",
        "    #     filename = \"sheared_\" + userName + \"_\" + str(i) + \".jpg\"\n",
        "    #     cv2.imwrite(filename, sheared_images[i])\n",
        "\n",
        "# Skewing image\n",
        "def skewedImage(imagePath, userName):\n",
        "    p = Augmentor.Pipeline(imagePath)\n",
        "    p.skew(probability = 1, magnitude = 0.7)\n",
        "    old_image = cv2.imread(imagePath)\n",
        "    # image = old_image.copy()\n",
        "    # skewed_images, label = p.sample(10)\n",
        "    # os.chdir(r'/content/drive/MyDrive/Open Lab/Datasets 1/' + userName)\n",
        "    # for i in range(len(skewed_images)):\n",
        "    #     filename = \"skewed_\" + userName + \"_\" + str(i) + \".jpg\"\n",
        "    #     cv2.imwrite(filename, skewed_images[i])\n",
        "\n",
        "# Black and White \n",
        "def bwImage(imagePath, userName):\n",
        "    p = Augmentor.Pipeline(imagePath)\n",
        "    p.black_and_white(probability = 1, threshold = 255)\n",
        "    old_image = cv2.imread(imagePath)\n",
        "    # image = old_image.copy()\n",
        "    # bwImages, label = p.process()\n",
        "    # os.chdir(r'/content/drive/MyDrive/Open Lab/Datasets 1/' + userName)\n",
        "    # for i in range(len(bwImages)):\n",
        "    #     filename = \"bw_\" + userName + \"_\" + str(i) + \".jpg\"\n",
        "    #     cv2.imwrite(filename, bwImages[0])\n",
        "  \n",
        "# Initialize pipeline\n",
        "def usePipeline(imagePath, userName):\n",
        "    p = Augmentor.Pipeline(imagePath)\n",
        "    p1 = Augmentor.Pipeline(imagePath)\n",
        "    p2 = Augmentor.Pipeline(imagePath)\n",
        "    p3 = Augmentor.Pipeline(imagePath)\n",
        "    p4 = Augmentor.Pipeline(imagePath)\n",
        "    \n",
        "    p.rotate(1, 15, 15)\n",
        "    p1.flip_left_right(probability = 1)\n",
        "    p2.shear(probability = 1, max_shear_left = 15, max_shear_right = 15)\n",
        "    p3.skew(probability = 1, magnitude = 0.7)\n",
        "    p4.black_and_white(probability = 1, threshold = 64)\n",
        "\n",
        "    p.sample(10)\n",
        "    p1.sample(4)\n",
        "    p2.sample(25)\n",
        "    p3.sample(25)\n",
        "    p4.sample(5)"
      ],
      "execution_count": 1,
      "outputs": []
    },
    {
      "cell_type": "markdown",
      "metadata": {
        "id": "WEouG7ZI4wxe"
      },
      "source": [
        "# **Function to move output photos**"
      ]
    },
    {
      "cell_type": "code",
      "metadata": {
        "id": "D9E0xcw3G4M1"
      },
      "source": [
        "import shutil\n",
        "\n",
        "def movePhotos(destination, name):\n",
        "  imagePaths = list(paths.list_images(r\"/content/drive/MyDrive/Open Lab/New Datasets 1\"))\n",
        "  print(imagePaths)\n",
        "  input(\"Press any key.\")\n",
        "  for imagePath in imagePaths:\n",
        "    shutil.copy(imagePath, destination)\n",
        "  \n",
        "  print(\"Moved all files.\\n\")\n",
        "  delPath = '/content/drive/MyDrive/Open Lab/New Datasets 1/' + name\n",
        "  # shutil.rmtree(delPath)"
      ],
      "execution_count": 2,
      "outputs": []
    },
    {
      "cell_type": "markdown",
      "metadata": {
        "id": "_njatv58BG9R"
      },
      "source": [
        "## **Driver Program for Data Augmentation**"
      ]
    },
    {
      "cell_type": "code",
      "metadata": {
        "id": "neFgMn6vAbZf",
        "colab": {
          "base_uri": "https://localhost:8080/"
        },
        "outputId": "2e9310e0-dd24-4c5c-e9f7-0142b5d6d8ec"
      },
      "source": [
        "import os\n",
        "\n",
        "imagePaths = list(paths.list_images(r\"/content/drive/MyDrive/Open Lab/New Datasets 1\"))\n",
        "# imgPath = list(paths.list_images(r'/content/drive/MyDrive/Open Lab/Datasets/Vikas'))\n",
        "\n",
        "name = firestoreName()\n",
        "os.mkdir(r'/content/drive/MyDrive/Open Lab/Datasets 1/' + name)\n",
        "imgPath = \"/content/drive/MyDrive/Open Lab/New Datasets 1/\" + name\n",
        "count = 0\n",
        "\n",
        "for imagePath in imagePaths:\n",
        "\n",
        "    # Perform data augmentation\n",
        "    \n",
        "    blurImage(imagePath, name, count)\n",
        "    sharpenImage(imagePath, name, count)\n",
        "    sepiaImage(imagePath, name, count)\n",
        "    brightImage(imagePath, name, count)\n",
        "\n",
        "    count += 1\n",
        "    \n",
        "# shearImage(imgPath, name)\n",
        "# skewedImage(imgPath, name)\n",
        "# bwImage(imgPath, name)\n",
        "# tiltedImage(imgPath, name)\n",
        "# mirrorImage(imgPath, name)\n",
        "\n",
        "usePipeline(imgPath, name)\n",
        "\n",
        "print(\"\\nDone with all images.\\n\")\n",
        "\n",
        "destination = '/content/drive/MyDrive/Open Lab/Datasets 1/' + name\n",
        "movePhotos(destination, name)\n",
        "print('\\nDeleted new datasets after moving.\\n')"
      ],
      "execution_count": 3,
      "outputs": [
        {
          "output_type": "stream",
          "text": [
            "Initialised with 21 image(s) found.\n",
            "Output directory set to /content/drive/MyDrive/Open Lab/New Datasets 1/Yash/output.Initialised with 21 image(s) found.\n",
            "Output directory set to /content/drive/MyDrive/Open Lab/New Datasets 1/Yash/output.Initialised with 21 image(s) found.\n",
            "Output directory set to /content/drive/MyDrive/Open Lab/New Datasets 1/Yash/output.Initialised with 21 image(s) found.\n",
            "Output directory set to /content/drive/MyDrive/Open Lab/New Datasets 1/Yash/output."
          ],
          "name": "stdout"
        },
        {
          "output_type": "stream",
          "text": [
            "\rExecuting Pipeline:   0%|          | 0/10 [00:00<?, ? Samples/s]"
          ],
          "name": "stderr"
        },
        {
          "output_type": "stream",
          "text": [
            "Initialised with 21 image(s) found.\n",
            "Output directory set to /content/drive/MyDrive/Open Lab/New Datasets 1/Yash/output."
          ],
          "name": "stdout"
        },
        {
          "output_type": "stream",
          "text": [
            "Processing <PIL.Image.Image image mode=RGB size=640x640 at 0x7FF95BF48A10>: 100%|██████████| 10/10 [00:06<00:00,  1.61 Samples/s]\n",
            "Processing <PIL.Image.Image image mode=RGB size=3264x2448 at 0x7FF95BF68910>: 100%|██████████| 4/4 [00:00<00:00,  4.92 Samples/s]\n",
            "Processing <PIL.Image.Image image mode=RGB size=1056x1225 at 0x7FF95E1B0A90>: 100%|██████████| 25/25 [00:19<00:00,  1.29 Samples/s]\n",
            "Processing <PIL.Image.Image image mode=RGB size=1070x1456 at 0x7FF958F159D0>: 100%|██████████| 25/25 [00:13<00:00,  1.85 Samples/s]\n",
            "Processing <PIL.Image.Image image mode=1 size=3264x2448 at 0x7FF958F0EE50>: 100%|██████████| 5/5 [00:00<00:00,  5.44 Samples/s]\n"
          ],
          "name": "stderr"
        },
        {
          "output_type": "stream",
          "text": [
            "\n",
            "Done with all images.\n",
            "\n",
            "['/content/drive/MyDrive/Open Lab/New Datasets 1/Yash/00100sPORTRAIT_00100_BURST20201006092507541_COVER.jpg', '/content/drive/MyDrive/Open Lab/New Datasets 1/Yash/IMG_20210207_144652.jpg', '/content/drive/MyDrive/Open Lab/New Datasets 1/Yash/Screenshot_2019-07-21-15-35-52_1_600x600.jpg', '/content/drive/MyDrive/Open Lab/New Datasets 1/Yash/00100sPORTRAIT_00100_BURST20201006092201542_COVER.jpg', '/content/drive/MyDrive/Open Lab/New Datasets 1/Yash/IMG_20201121_102858.jpg', '/content/drive/MyDrive/Open Lab/New Datasets 1/Yash/IMG_20201114_204511.jpg', '/content/drive/MyDrive/Open Lab/New Datasets 1/Yash/IMG_20201114_204455.jpg', '/content/drive/MyDrive/Open Lab/New Datasets 1/Yash/00100sPORTRAIT_00100_BURST20201005165132315_COVER.jpg', '/content/drive/MyDrive/Open Lab/New Datasets 1/Yash/IMG-20191028-WA0000.jpg', '/content/drive/MyDrive/Open Lab/New Datasets 1/Yash/IMG_20200904_200538.jpg', '/content/drive/MyDrive/Open Lab/New Datasets 1/Yash/IMG_20191028_225637.jpg', '/content/drive/MyDrive/Open Lab/New Datasets 1/Yash/IMG-20190721-WA0006.jpg', '/content/drive/MyDrive/Open Lab/New Datasets 1/Yash/IMG-20200203-WA0010.jpg', '/content/drive/MyDrive/Open Lab/New Datasets 1/Yash/IMG-20190614-WA0003.jpg', '/content/drive/MyDrive/Open Lab/New Datasets 1/Yash/IMG-20190601-WA0015.jpg', '/content/drive/MyDrive/Open Lab/New Datasets 1/Yash/IMG-20181106-WA0013.jpg', '/content/drive/MyDrive/Open Lab/New Datasets 1/Yash/00100sPORTRAIT_00100_BURST20201019185236918_COVER.jpg', '/content/drive/MyDrive/Open Lab/New Datasets 1/Yash/00100sPORTRAIT_00100_BURST20201019185217890_COVER.jpg', '/content/drive/MyDrive/Open Lab/New Datasets 1/Yash/00100sPORTRAIT_00100_BURST20201019185155759_COVER.jpg', '/content/drive/MyDrive/Open Lab/New Datasets 1/Yash/IMG_20201203_002234.jpg', '/content/drive/MyDrive/Open Lab/New Datasets 1/Yash/IMG_20191118_173222.jpg', '/content/drive/MyDrive/Open Lab/New Datasets 1/Yash/output/Yash_original_IMG-20200203-WA0010.jpg_01a8d56f-6b36-4a28-82dd-6fa20c6157c4.jpg', '/content/drive/MyDrive/Open Lab/New Datasets 1/Yash/output/Yash_original_IMG-20181106-WA0013.jpg_73b8d625-88e9-4aa8-b7bd-92c83ad1c8ee.jpg', '/content/drive/MyDrive/Open Lab/New Datasets 1/Yash/output/Yash_original_IMG-20200203-WA0010.jpg_33cff644-f826-4738-993c-8eb11fde53de.jpg', '/content/drive/MyDrive/Open Lab/New Datasets 1/Yash/output/Yash_original_IMG-20190614-WA0003.jpg_99bcd283-7cac-4f06-8ec5-64eec75ff8de.jpg', '/content/drive/MyDrive/Open Lab/New Datasets 1/Yash/output/Yash_original_IMG_20201114_204511.jpg_e25588c2-0208-4c55-ada2-4b2687416ba0.jpg', '/content/drive/MyDrive/Open Lab/New Datasets 1/Yash/output/Yash_original_00100sPORTRAIT_00100_BURST20201019185155759_COVER.jpg_f4b71525-b3df-4165-81a3-14955c5097c6.jpg', '/content/drive/MyDrive/Open Lab/New Datasets 1/Yash/output/Yash_original_00100sPORTRAIT_00100_BURST20201019185236918_COVER.jpg_de542b37-66a7-46f2-8ac6-3633d9cffac2.jpg', '/content/drive/MyDrive/Open Lab/New Datasets 1/Yash/output/Yash_original_IMG_20201203_002234.jpg_aaf61344-3cc0-489b-814f-3da0ad02ea9b.jpg', '/content/drive/MyDrive/Open Lab/New Datasets 1/Yash/output/Yash_original_00100sPORTRAIT_00100_BURST20201006092201542_COVER.jpg_ae6bda53-24a6-42ac-845b-f657b3a24ecd.jpg', '/content/drive/MyDrive/Open Lab/New Datasets 1/Yash/output/Yash_original_00100sPORTRAIT_00100_BURST20201019185155759_COVER.jpg_14b57ac9-2af1-4e2c-9dc7-1778e36e3c2e.jpg', '/content/drive/MyDrive/Open Lab/New Datasets 1/Yash/output/Yash_original_IMG-20200203-WA0010.jpg_2cbc153d-a47d-44bf-acf9-8735593181dc.jpg', '/content/drive/MyDrive/Open Lab/New Datasets 1/Yash/output/Yash_original_IMG-20190614-WA0003.jpg_191adbc5-550c-4a7e-975a-737958b21c08.jpg', '/content/drive/MyDrive/Open Lab/New Datasets 1/Yash/output/Yash_original_00100sPORTRAIT_00100_BURST20201006092201542_COVER.jpg_0b21a85c-8b67-4520-bfb6-926436c2e1fc.jpg', '/content/drive/MyDrive/Open Lab/New Datasets 1/Yash/output/Yash_original_00100sPORTRAIT_00100_BURST20201005165132315_COVER.jpg_fc4164cd-09ee-450c-a11a-26836fe06e65.jpg', '/content/drive/MyDrive/Open Lab/New Datasets 1/Yash/output/Yash_original_Screenshot_2019-07-21-15-35-52_1_600x600.jpg_2fd8f695-3a92-4d89-a0f1-0a9023766af1.jpg', '/content/drive/MyDrive/Open Lab/New Datasets 1/Yash/output/Yash_original_Screenshot_2019-07-21-15-35-52_1_600x600.jpg_dc3710ce-aecc-455b-805a-71a216a88735.jpg', '/content/drive/MyDrive/Open Lab/New Datasets 1/Yash/output/Yash_original_IMG-20200203-WA0010.jpg_4bd86955-3a05-453b-bc01-fdb7e0fff938.jpg', '/content/drive/MyDrive/Open Lab/New Datasets 1/Yash/output/Yash_original_IMG-20191028-WA0000.jpg_202f07cb-0778-48c9-9afa-fab2b128a5f4.jpg', '/content/drive/MyDrive/Open Lab/New Datasets 1/Yash/output/Yash_original_IMG-20190721-WA0006.jpg_22928f88-97cd-44ed-be66-7c07d9453dc3.jpg', '/content/drive/MyDrive/Open Lab/New Datasets 1/Yash/output/Yash_original_IMG-20190601-WA0015.jpg_7b9100f3-83c1-4984-9152-992e1f58452a.jpg', '/content/drive/MyDrive/Open Lab/New Datasets 1/Yash/output/Yash_original_IMG_20200904_200538.jpg_649b9adf-37bf-47cc-bbde-8d63fe5b7f0b.jpg', '/content/drive/MyDrive/Open Lab/New Datasets 1/Yash/output/Yash_original_IMG_20200904_200538.jpg_e1d6964c-860c-40eb-a4b8-c6e588114640.jpg', '/content/drive/MyDrive/Open Lab/New Datasets 1/Yash/output/Yash_original_00100sPORTRAIT_00100_BURST20201005165132315_COVER.jpg_3623a081-64e1-4e29-b75b-117a28b70eec.jpg', '/content/drive/MyDrive/Open Lab/New Datasets 1/Yash/output/Yash_original_00100sPORTRAIT_00100_BURST20201019185236918_COVER.jpg_71d43c43-f416-421e-8f0b-96a0bd148ce1.jpg', '/content/drive/MyDrive/Open Lab/New Datasets 1/Yash/output/Yash_original_00100sPORTRAIT_00100_BURST20201006092507541_COVER.jpg_a42692a1-97de-49f8-a060-ab357347178a.jpg', '/content/drive/MyDrive/Open Lab/New Datasets 1/Yash/output/Yash_original_00100sPORTRAIT_00100_BURST20201005165132315_COVER.jpg_e82f9307-0cff-4802-bc2a-c6acca190a52.jpg', '/content/drive/MyDrive/Open Lab/New Datasets 1/Yash/output/Yash_original_IMG_20191118_173222.jpg_f5c39786-b5c8-4ef8-b1d2-819e691d9af4.jpg', '/content/drive/MyDrive/Open Lab/New Datasets 1/Yash/output/Yash_original_00100sPORTRAIT_00100_BURST20201006092201542_COVER.jpg_1fc48ef3-eed9-4c2f-a464-c1fe848f0bce.jpg', '/content/drive/MyDrive/Open Lab/New Datasets 1/Yash/output/Yash_original_00100sPORTRAIT_00100_BURST20201005165132315_COVER.jpg_d898e595-f4ab-413e-8290-669eef05abeb.jpg', '/content/drive/MyDrive/Open Lab/New Datasets 1/Yash/output/Yash_original_IMG-20190721-WA0006.jpg_a9abc42c-110a-4ba1-858f-58016f82f0dd.jpg', '/content/drive/MyDrive/Open Lab/New Datasets 1/Yash/output/Yash_original_IMG-20190614-WA0003.jpg_f934c6d7-6134-4eef-b605-f3aa76b0416e.jpg', '/content/drive/MyDrive/Open Lab/New Datasets 1/Yash/output/Yash_original_IMG_20201114_204511.jpg_c237ad8b-176e-4d63-8e09-f916f3246c1e.jpg', '/content/drive/MyDrive/Open Lab/New Datasets 1/Yash/output/Yash_original_00100sPORTRAIT_00100_BURST20201019185155759_COVER.jpg_0a1a25dc-47a6-42fd-8480-100c095c1cad.jpg', '/content/drive/MyDrive/Open Lab/New Datasets 1/Yash/output/Yash_original_IMG-20190601-WA0015.jpg_4d847b10-1991-4487-bb3a-f26f6c982678.jpg', '/content/drive/MyDrive/Open Lab/New Datasets 1/Yash/output/Yash_original_00100sPORTRAIT_00100_BURST20201006092507541_COVER.jpg_abe7129b-d8f5-42e6-a55a-410b738f2d9a.jpg', '/content/drive/MyDrive/Open Lab/New Datasets 1/Yash/output/Yash_original_00100sPORTRAIT_00100_BURST20201005165132315_COVER.jpg_5f56078a-4e2b-462d-be9a-c1055eac2904.jpg', '/content/drive/MyDrive/Open Lab/New Datasets 1/Yash/output/Yash_original_00100sPORTRAIT_00100_BURST20201019185217890_COVER.jpg_0914f094-4355-4d78-98b2-211348d3ed4a.jpg', '/content/drive/MyDrive/Open Lab/New Datasets 1/Yash/output/Yash_original_IMG_20191118_173222.jpg_946f7c8c-2d5c-4e1e-b34f-e5d639cd1d00.jpg', '/content/drive/MyDrive/Open Lab/New Datasets 1/Yash/output/Yash_original_00100sPORTRAIT_00100_BURST20201006092201542_COVER.jpg_aaa6c51b-57f2-4f24-a4f5-f04d1b7cba33.jpg', '/content/drive/MyDrive/Open Lab/New Datasets 1/Yash/output/Yash_original_IMG-20200203-WA0010.jpg_77a0969e-1757-4c1b-ac53-6732c7c31f1c.jpg', '/content/drive/MyDrive/Open Lab/New Datasets 1/Yash/output/Yash_original_IMG-20190721-WA0006.jpg_8f3a67cb-7f94-4ef1-8510-876b51b80738.jpg', '/content/drive/MyDrive/Open Lab/New Datasets 1/Yash/output/Yash_original_IMG-20190721-WA0006.jpg_94b483e8-476e-4b52-8d1d-5401d0ce17b0.jpg', '/content/drive/MyDrive/Open Lab/New Datasets 1/Yash/output/Yash_original_IMG_20191028_225637.jpg_8e85e296-54ff-40d6-8f64-9d80915160c4.jpg', '/content/drive/MyDrive/Open Lab/New Datasets 1/Yash/output/Yash_original_IMG-20190614-WA0003.jpg_6bbe5aea-022c-428f-9c9c-bb99bd3f80a8.jpg', '/content/drive/MyDrive/Open Lab/New Datasets 1/Yash/output/Yash_original_IMG_20201114_204455.jpg_4bc1f9fb-9c25-4d51-af52-265f1b10a8e9.jpg', '/content/drive/MyDrive/Open Lab/New Datasets 1/Yash/output/Yash_original_IMG-20190614-WA0003.jpg_555dbd89-8a30-4d89-96c8-6abd1b7e588a.jpg', '/content/drive/MyDrive/Open Lab/New Datasets 1/Yash/output/Yash_original_IMG_20191028_225637.jpg_9ca51a5a-577e-4e25-8428-05cc414253e3.jpg', '/content/drive/MyDrive/Open Lab/New Datasets 1/Yash/output/Yash_original_IMG-20190601-WA0015.jpg_ff86d7e4-ba29-434c-bdea-4b127e175be9.jpg', '/content/drive/MyDrive/Open Lab/New Datasets 1/Yash/output/Yash_original_Screenshot_2019-07-21-15-35-52_1_600x600.jpg_2b09890d-1a99-4cbd-ae6a-ba440770594a.jpg', '/content/drive/MyDrive/Open Lab/New Datasets 1/Yash/output/Yash_original_IMG_20200904_200538.jpg_6049b9ce-d9f2-4b9c-ae5e-b26a4f73395c.jpg', '/content/drive/MyDrive/Open Lab/New Datasets 1/Yash/output/Yash_original_00100sPORTRAIT_00100_BURST20201019185155759_COVER.jpg_7e962a24-c0e8-49d5-883f-c62e58b68ead.jpg', '/content/drive/MyDrive/Open Lab/New Datasets 1/Yash/output/Yash_original_00100sPORTRAIT_00100_BURST20201006092507541_COVER.jpg_25add272-6c8e-4082-b0ae-b8e987356d31.jpg', '/content/drive/MyDrive/Open Lab/New Datasets 1/Yash/output/Yash_original_00100sPORTRAIT_00100_BURST20201006092201542_COVER.jpg_366b446e-c716-482c-8848-97353ff01175.jpg', '/content/drive/MyDrive/Open Lab/New Datasets 1/Yash/output/Yash_original_00100sPORTRAIT_00100_BURST20201005165132315_COVER.jpg_269525c4-c407-4b35-b537-b219380a14bb.jpg', '/content/drive/MyDrive/Open Lab/New Datasets 1/Yash/output/Yash_original_00100sPORTRAIT_00100_BURST20201006092201542_COVER.jpg_c47694cd-0657-480c-93ec-0af729ee36f3.jpg', '/content/drive/MyDrive/Open Lab/New Datasets 1/Yash/output/Yash_original_00100sPORTRAIT_00100_BURST20201006092507541_COVER.jpg_15f19195-5580-4e00-86cc-eb19a206f8d2.jpg', '/content/drive/MyDrive/Open Lab/New Datasets 1/Yash/output/Yash_original_00100sPORTRAIT_00100_BURST20201019185217890_COVER.jpg_83252a3c-686b-4431-9e65-fed4cb2f26f2.jpg', '/content/drive/MyDrive/Open Lab/New Datasets 1/Yash/output/Yash_original_IMG-20200203-WA0010.jpg_f15bc25b-1005-4238-8c96-4061dc558a7c.jpg', '/content/drive/MyDrive/Open Lab/New Datasets 1/Yash/output/Yash_original_IMG-20200203-WA0010.jpg_b42270dc-c021-41d9-9ede-7896cdb04252.jpg', '/content/drive/MyDrive/Open Lab/New Datasets 1/Yash/output/Yash_original_IMG_20201114_204511.jpg_5f65ba39-b80a-450c-9b3d-5b768732111a.jpg', '/content/drive/MyDrive/Open Lab/New Datasets 1/Yash/output/Yash_original_00100sPORTRAIT_00100_BURST20201019185217890_COVER.jpg_2d1b7b93-b128-47ea-a285-043e9ff53f2a.jpg', '/content/drive/MyDrive/Open Lab/New Datasets 1/Yash/output/Yash_original_IMG_20201114_204455.jpg_5b4cf40c-7202-4188-ad1e-7b5f7a09ca4d.jpg', '/content/drive/MyDrive/Open Lab/New Datasets 1/Yash/output/Yash_original_00100sPORTRAIT_00100_BURST20201005165132315_COVER.jpg_e8f4d639-1c1e-443f-bc04-4b03c03e513c.jpg', '/content/drive/MyDrive/Open Lab/New Datasets 1/Yash/output/Yash_original_IMG-20190601-WA0015.jpg_967bfdce-fde1-414a-ac1f-eb23338287dc.jpg', '/content/drive/MyDrive/Open Lab/New Datasets 1/Yash/output/Yash_original_IMG-20191028-WA0000.jpg_c8cfda46-73e9-4dbe-ad7f-53a3d92431e3.jpg', '/content/drive/MyDrive/Open Lab/New Datasets 1/Yash/output/Yash_original_IMG-20200203-WA0010.jpg_74b0221b-7307-4bf4-94c1-03cbae3fa7e3.jpg', '/content/drive/MyDrive/Open Lab/New Datasets 1/Yash/output/Yash_original_IMG_20200904_200538.jpg_a9e8db0e-f165-4acc-a59a-d74c23c3fe3c.jpg', '/content/drive/MyDrive/Open Lab/New Datasets 1/Yash/output/Yash_original_IMG_20201203_002234.jpg_616817d1-35a8-4bdf-b642-9010df65ee06.jpg', '/content/drive/MyDrive/Open Lab/New Datasets 1/Yash/output/Yash_original_00100sPORTRAIT_00100_BURST20201019185217890_COVER.jpg_a12b66e2-92c0-4219-8f14-4d09ca166e2d.jpg']\n",
            "Press any key.\n",
            "Moved all files.\n",
            "\n",
            "\n",
            "Deleted new datasets after moving.\n",
            "\n"
          ],
          "name": "stdout"
        }
      ]
    },
    {
      "cell_type": "code",
      "metadata": {
        "id": "dsGpQlzRD3Zt"
      },
      "source": [
        ""
      ],
      "execution_count": null,
      "outputs": []
    }
  ]
}