{
  "nbformat": 4,
  "nbformat_minor": 0,
  "metadata": {
    "colab": {
      "name": "Human PokeDex Playground.ipynb",
      "provenance": [],
      "mount_file_id": "https://github.com/newb-dev-1008/Human-PokeDex/blob/master/Human_PokeDex_Playground.ipynb",
      "authorship_tag": "ABX9TyOEgvrY6kNdpDMCMWpcNnTa",
      "include_colab_link": true
    },
    "kernelspec": {
      "name": "python3",
      "display_name": "Python 3"
    },
    "language_info": {
      "name": "python"
    }
  },
  "cells": [
    {
      "cell_type": "markdown",
      "metadata": {
        "id": "view-in-github",
        "colab_type": "text"
      },
      "source": [
        "<a href=\"https://colab.research.google.com/github/newb-dev-1008/Human-PokeDex/blob/master/Human_PokeDex_Playground.ipynb\" target=\"_parent\"><img src=\"https://colab.research.google.com/assets/colab-badge.svg\" alt=\"Open In Colab\"/></a>"
      ]
    },
    {
      "cell_type": "markdown",
      "metadata": {
        "id": "RHu1mDcHAcPU"
      },
      "source": [
        "# **Human PokeDex - Playground Notebook**\n",
        "\n",
        "This notebook will be used for trying parts of the software to test their implementation."
      ]
    },
    {
      "cell_type": "markdown",
      "metadata": {
        "id": "_rgxQ9qbApnx"
      },
      "source": [
        "# **Data Augmentation**"
      ]
    },
    {
      "cell_type": "markdown",
      "metadata": {
        "id": "N3V9fH4sBNXr"
      },
      "source": [
        "## **Functions for augmentation**"
      ]
    },
    {
      "cell_type": "code",
      "metadata": {
        "id": "h-MlaMMJGyvv",
        "colab": {
          "base_uri": "https://localhost:8080/"
        },
        "outputId": "54cc7781-136a-484f-d919-0f458c0509fe"
      },
      "source": [
        "!pip install Augmentor"
      ],
      "execution_count": 8,
      "outputs": [
        {
          "output_type": "stream",
          "text": [
            "shell-init: error retrieving current directory: getcwd: cannot access parent directories: No such file or directory\n",
            "shell-init: error retrieving current directory: getcwd: cannot access parent directories: No such file or directory\n",
            "The folder you are executing pip from can no longer be found.\n"
          ],
          "name": "stdout"
        }
      ]
    },
    {
      "cell_type": "code",
      "metadata": {
        "id": "U795lUjnHr2K",
        "colab": {
          "base_uri": "https://localhost:8080/"
        },
        "outputId": "088d901e-a62b-439b-d938-8f2d42a5401e"
      },
      "source": [
        "!pip install --upgrade imutils"
      ],
      "execution_count": 9,
      "outputs": [
        {
          "output_type": "stream",
          "text": [
            "shell-init: error retrieving current directory: getcwd: cannot access parent directories: No such file or directory\n",
            "shell-init: error retrieving current directory: getcwd: cannot access parent directories: No such file or directory\n",
            "The folder you are executing pip from can no longer be found.\n"
          ],
          "name": "stdout"
        }
      ]
    },
    {
      "cell_type": "code",
      "metadata": {
        "id": "Khtxk9lCwvpE",
        "colab": {
          "base_uri": "https://localhost:8080/"
        },
        "outputId": "940fd27f-8766-487a-fff3-1ec1752a9ee1"
      },
      "source": [
        "!pip install --upgrade firebase-admin"
      ],
      "execution_count": 10,
      "outputs": [
        {
          "output_type": "stream",
          "text": [
            "shell-init: error retrieving current directory: getcwd: cannot access parent directories: No such file or directory\n",
            "shell-init: error retrieving current directory: getcwd: cannot access parent directories: No such file or directory\n",
            "The folder you are executing pip from can no longer be found.\n"
          ],
          "name": "stdout"
        }
      ]
    },
    {
      "cell_type": "code",
      "metadata": {
        "id": "LJDEv1J3Bc1o"
      },
      "source": [
        "import numpy as np\n",
        "from imutils import paths\n",
        "import Augmentor\n",
        "import cv2\n",
        "import os\n",
        "import firebase_admin\n",
        "from firebase_admin import firestore\n",
        "from firebase_admin import credentials\n",
        "\n",
        "# Function to retrieve person's name\n",
        "def firestoreName():\n",
        "  cred = credentials.Certificate(\"/content/drive/MyDrive/Open Lab/Private Keys/human-pokedex-firebase-adminsdk-37ou3-147a3cdcff.json\")\n",
        "  firebase_admin.initialize_app(cred, {\n",
        "  'projectId': 'human-pokedex',\n",
        "  })\n",
        "  db = firestore.client()\n",
        "  users_ref = db.collection(u'New Users')\n",
        "  docs = users_ref.stream()\n",
        "\n",
        "  userName = \"\"\n",
        "\n",
        "  for doc in docs:\n",
        "    dict1 = doc.to_dict()\n",
        "    userName = dict1['Username']\n",
        "  \n",
        "  return userName\n",
        "\n",
        "# Function to blur the image\n",
        "def blurImage(imagePath, userName, i):\n",
        "    old_image = cv2.imread(imagePath)\n",
        "    image = old_image.copy()\n",
        "    blurredImage = cv2.blur(image, (3, 3))\n",
        "    filename = \"blurred_\" + userName + \"_\" + i + \".jpg\"\n",
        "    os.chdir(r'/content/drive/MyDrive/Open Lab/Datasets 1/' + userName)\n",
        "    cv2.imwrite(filename, blurredImage) \n",
        "\n",
        "# Function to sharpen the image\n",
        "def sharpenImage(imagePath, userName):\n",
        "    old_image = cv2.imread(imagePath)\n",
        "    image = old_image.copy()\n",
        "    kernel = np.array([[-1, -1, -1], [-1, 9, -1], [-1, -1, -1]])\n",
        "    sharpImage = cv2.filter2D(image, -1, kernel)\n",
        "    filename = \"sharpened_\" + userName + \"_\" + i + \".jpg\"\n",
        "    os.chdir(r'/content/drive/MyDrive/Open Lab/Datasets 1/' + userName)\n",
        "    cv2.imwrite(filename, sharpImage)\n",
        "\n",
        "# Function to add Sepia effect \n",
        "def sepiaImage(imagePath, userName):\n",
        "    old_image = cv2.imread(imagePath)\n",
        "    image = old_image.copy()\n",
        "    kernel = np.array([[0.272, 0.534, 0.131], [0.349, 0.686, 0.168], [0.393, 0.769, 0.189]])\n",
        "    sepiaImage = cv2.filter2D(image, -1, kernel)\n",
        "    filename = \"sepia_\" + userName +  \"_\" + i + \".jpg\"\n",
        "    os.chdir(r'/content/drive/MyDrive/Open Lab/Datasets 1/' + userName)\n",
        "    cv2.imwrite(filename, sepiaImage)\n",
        "\n",
        "# Function to add brightness\n",
        "def brightImage(imagePath, userName):\n",
        "    old_image = cv2.imread(imagePath)\n",
        "    image = old_image.copy()\n",
        "    brightImage = cv2.convertScaleAbs(image, 3)\n",
        "    filename = \"bright_\" + userName +  \"_\" + i + \".jpg\"\n",
        "    os.chdir(r'/content/drive/MyDrive/Open Lab/Datasets 1/' + userName)\n",
        "    cv2.imwrite(filename, brightImage)\n",
        "\n",
        "# Tilt image to certain angles\n",
        "def tiltedImage(imagePath, userName):\n",
        "    p = Augmentor.Pipeline(imagePath)\n",
        "    p.rotate(1, 15, 15)\n",
        "    # old_image = cv2.imread(imagePath)\n",
        "    # image = old_image.copy()\n",
        "    tilted_images, label = p.sample(10)\n",
        "    os.chdir(r'/content/drive/MyDrive/Open Lab/Datasets 1/' + userName)\n",
        "    for i in range(len(tilted_images)):\n",
        "        filename = \"tilted_\" + userName + \"_\" + i + \".jpg\"\n",
        "        cv2.imwrite(filename, tilted_images[i])\n",
        "    \n",
        "# Mirror image\n",
        "def mirrorImage(imagePath, userName):\n",
        "    p = Augmentor.Pipeline(imagePath)\n",
        "    p.flip_left_right(probability = 1)\n",
        "    # old_image = cv2.imread(imagePath)\n",
        "    # image = old_image.copy()\n",
        "    flipped_images, label = p.sample(10)\n",
        "    os.chdir(r'/content/drive/MyDrive/Open Lab/Datasets 1/' + userName)\n",
        "    for i in range(len(flipped_images)):\n",
        "        filename = \"flipped_\" + userName + \"_\" + i + \".jpg\"\n",
        "        cv2.imwrite(filename, flipped_images[i])\n",
        "\n",
        "# Shearing image\n",
        "def shearImage(imagePath, userName):\n",
        "    p = Augmentor.Pipeline(imagePath)\n",
        "    p.shear(probability = 1, max_shear_left = 15, max_shear_right = 15)\n",
        "    # old_image = cv2.imread(imagePath)\n",
        "    # image = old_image.copy()\n",
        "    sheared_images, label = p.sample(10)\n",
        "    os.chdir(r'/content/drive/MyDrive/Open Lab/Datasets 1/' + userName)\n",
        "    for i in range(len(sheared_images)):\n",
        "        filename = \"sheared_\" + userName + \"_\" + i + \".jpg\"\n",
        "        cv2.imwrite(filename, sheared_images[i])\n",
        "\n",
        "# Skewing image\n",
        "def skewedImage(imagePath, userName):\n",
        "    p = Augmentor.Pipeline(imagePath)\n",
        "    p.skew(probability = 1, magnitude = 0.7)\n",
        "    # old_image = cv2.imread(imagePath)\n",
        "    # image = old_image.copy()\n",
        "    skewed_images, label = p.sample(10)\n",
        "    os.chdir(r'/content/drive/MyDrive/Open Lab/Datasets 1/' + userName)\n",
        "    for i in range(len(skewed_images)):\n",
        "        filename = \"skewed_\" + userName + \"_\" + i + \".jpg\"\n",
        "        cv2.imwrite(filename, skewed_images[i])\n",
        "\n",
        "# Black and White \n",
        "def bwImage(imagePath, userName):\n",
        "    p = Augmentor.Pipeline(imagePath)\n",
        "    p.black_and_white(probability = 1, threshold = 256)\n",
        "    # old_image = cv2.imread(imagePath)\n",
        "    # image = old_image.copy()\n",
        "    bwImages, label = p.sample(10)\n",
        "    os.chdir(r'/content/drive/MyDrive/Open Lab/Datasets 1/' + userName)\n",
        "    for i in range(len(bwImages)):\n",
        "        filename = \"bw_\" + userName + \"_\" + i + \".jpg\"\n",
        "        cv2.imwrite(filename, bwImages[0])\n"
      ],
      "execution_count": 1,
      "outputs": []
    },
    {
      "cell_type": "markdown",
      "metadata": {
        "id": "_njatv58BG9R"
      },
      "source": [
        "## **Driver Program for Data Augmentation**"
      ]
    },
    {
      "cell_type": "code",
      "metadata": {
        "id": "neFgMn6vAbZf",
        "colab": {
          "base_uri": "https://localhost:8080/",
          "height": 370
        },
        "outputId": "4f4dc138-9958-4a41-9f6e-2757732be9e1"
      },
      "source": [
        "import os\n",
        "\n",
        "imagePaths = list(paths.list_images(r\"/content/drive/MyDrive/Open Lab/New Datasets 1\"))\n",
        "# imgPath = list(paths.list_images(r'/content/drive/MyDrive/Open Lab/Datasets/Vikas'))\n",
        "\n",
        "name = firestoreName()\n",
        "os.mkdir(r'/content/drive/MyDrive/Open Lab/Datasets 1/' + name)\n",
        "imgPath = \"/content/drive/MyDrive/Open Lab/New Datasets 1/\" + name\n",
        "\n",
        "for imagePath in imagePaths:\n",
        "\n",
        "    # Perform data augmentation\n",
        "    \n",
        "    blurImage(imagePath, name)\n",
        "    sharpenImage(imagePath, name)\n",
        "    sepiaImage(imagePath, name)\n",
        "    brightImage(imagePath, name)\n",
        "    \n",
        "shearImage(imgPath, name)\n",
        "skewedImage(imgPath, name)\n",
        "bwImage(imgPath, name)\n",
        "tiltedImage(imgPath, name)\n",
        "mirrorImage(imgPath, name)\n",
        "\n",
        "print(\"Done with all images.\\n\")"
      ],
      "execution_count": 3,
      "outputs": [
        {
          "output_type": "error",
          "ename": "TypeError",
          "evalue": "ignored",
          "traceback": [
            "\u001b[0;31m---------------------------------------------------------------------------\u001b[0m",
            "\u001b[0;31mTypeError\u001b[0m                                 Traceback (most recent call last)",
            "\u001b[0;32m<ipython-input-3-d58d5d501782>\u001b[0m in \u001b[0;36m<module>\u001b[0;34m()\u001b[0m\n\u001b[1;32m     16\u001b[0m     \u001b[0mbrightImage\u001b[0m\u001b[0;34m(\u001b[0m\u001b[0mimagePath\u001b[0m\u001b[0;34m,\u001b[0m \u001b[0mname\u001b[0m\u001b[0;34m)\u001b[0m\u001b[0;34m\u001b[0m\u001b[0;34m\u001b[0m\u001b[0m\n\u001b[1;32m     17\u001b[0m \u001b[0;34m\u001b[0m\u001b[0m\n\u001b[0;32m---> 18\u001b[0;31m \u001b[0mshearImage\u001b[0m\u001b[0;34m(\u001b[0m\u001b[0mimagePaths\u001b[0m\u001b[0;34m,\u001b[0m \u001b[0mname\u001b[0m\u001b[0;34m)\u001b[0m\u001b[0;34m\u001b[0m\u001b[0;34m\u001b[0m\u001b[0m\n\u001b[0m\u001b[1;32m     19\u001b[0m \u001b[0mskewedImage\u001b[0m\u001b[0;34m(\u001b[0m\u001b[0mimagePaths\u001b[0m\u001b[0;34m,\u001b[0m \u001b[0mname\u001b[0m\u001b[0;34m)\u001b[0m\u001b[0;34m\u001b[0m\u001b[0;34m\u001b[0m\u001b[0m\n\u001b[1;32m     20\u001b[0m \u001b[0mbwImage\u001b[0m\u001b[0;34m(\u001b[0m\u001b[0mimagePaths\u001b[0m\u001b[0;34m,\u001b[0m \u001b[0mname\u001b[0m\u001b[0;34m)\u001b[0m\u001b[0;34m\u001b[0m\u001b[0;34m\u001b[0m\u001b[0m\n",
            "\u001b[0;32m<ipython-input-1-0c2b3ee14fe5>\u001b[0m in \u001b[0;36mshearImage\u001b[0;34m(imagePath, userName)\u001b[0m\n\u001b[1;32m     89\u001b[0m \u001b[0;31m# Shearing image\u001b[0m\u001b[0;34m\u001b[0m\u001b[0;34m\u001b[0m\u001b[0;34m\u001b[0m\u001b[0m\n\u001b[1;32m     90\u001b[0m \u001b[0;32mdef\u001b[0m \u001b[0mshearImage\u001b[0m\u001b[0;34m(\u001b[0m\u001b[0mimagePath\u001b[0m\u001b[0;34m,\u001b[0m \u001b[0muserName\u001b[0m\u001b[0;34m)\u001b[0m\u001b[0;34m:\u001b[0m\u001b[0;34m\u001b[0m\u001b[0;34m\u001b[0m\u001b[0m\n\u001b[0;32m---> 91\u001b[0;31m     \u001b[0mp\u001b[0m \u001b[0;34m=\u001b[0m \u001b[0mAugmentor\u001b[0m\u001b[0;34m.\u001b[0m\u001b[0mPipeline\u001b[0m\u001b[0;34m(\u001b[0m\u001b[0mimagePath\u001b[0m\u001b[0;34m)\u001b[0m\u001b[0;34m\u001b[0m\u001b[0;34m\u001b[0m\u001b[0m\n\u001b[0m\u001b[1;32m     92\u001b[0m     \u001b[0mp\u001b[0m\u001b[0;34m.\u001b[0m\u001b[0mshear\u001b[0m\u001b[0;34m(\u001b[0m\u001b[0mprobability\u001b[0m \u001b[0;34m=\u001b[0m \u001b[0;36m1\u001b[0m\u001b[0;34m,\u001b[0m \u001b[0mmax_shear_left\u001b[0m \u001b[0;34m=\u001b[0m \u001b[0;36m15\u001b[0m\u001b[0;34m,\u001b[0m \u001b[0mmax_shear_right\u001b[0m \u001b[0;34m=\u001b[0m \u001b[0;36m15\u001b[0m\u001b[0;34m)\u001b[0m\u001b[0;34m\u001b[0m\u001b[0;34m\u001b[0m\u001b[0m\n\u001b[1;32m     93\u001b[0m     \u001b[0;31m# old_image = cv2.imread(imagePath)\u001b[0m\u001b[0;34m\u001b[0m\u001b[0;34m\u001b[0m\u001b[0;34m\u001b[0m\u001b[0m\n",
            "\u001b[0;32m/usr/local/lib/python3.7/dist-packages/Augmentor/Pipeline.py\u001b[0m in \u001b[0;36m__init__\u001b[0;34m(self, source_directory, output_directory, save_format)\u001b[0m\n\u001b[1;32m     88\u001b[0m                            \u001b[0moutput_directory\u001b[0m\u001b[0;34m=\u001b[0m\u001b[0moutput_directory\u001b[0m\u001b[0;34m,\u001b[0m\u001b[0;34m\u001b[0m\u001b[0;34m\u001b[0m\u001b[0m\n\u001b[1;32m     89\u001b[0m                            \u001b[0mground_truth_directory\u001b[0m\u001b[0;34m=\u001b[0m\u001b[0;32mNone\u001b[0m\u001b[0;34m,\u001b[0m\u001b[0;34m\u001b[0m\u001b[0;34m\u001b[0m\u001b[0m\n\u001b[0;32m---> 90\u001b[0;31m                            ground_truth_output_directory=output_directory)\n\u001b[0m\u001b[1;32m     91\u001b[0m \u001b[0;34m\u001b[0m\u001b[0m\n\u001b[1;32m     92\u001b[0m     \u001b[0;32mdef\u001b[0m \u001b[0m__call__\u001b[0m\u001b[0;34m(\u001b[0m\u001b[0mself\u001b[0m\u001b[0;34m,\u001b[0m \u001b[0maugmentor_image\u001b[0m\u001b[0;34m)\u001b[0m\u001b[0;34m:\u001b[0m\u001b[0;34m\u001b[0m\u001b[0;34m\u001b[0m\u001b[0m\n",
            "\u001b[0;32m/usr/local/lib/python3.7/dist-packages/Augmentor/Pipeline.py\u001b[0m in \u001b[0;36m_populate\u001b[0;34m(self, source_directory, output_directory, ground_truth_directory, ground_truth_output_directory)\u001b[0m\n\u001b[1;32m    132\u001b[0m \u001b[0;34m\u001b[0m\u001b[0m\n\u001b[1;32m    133\u001b[0m         \u001b[0;31m# Check if the source directory for the original images to augment exists at all\u001b[0m\u001b[0;34m\u001b[0m\u001b[0;34m\u001b[0m\u001b[0;34m\u001b[0m\u001b[0m\n\u001b[0;32m--> 134\u001b[0;31m         \u001b[0;32mif\u001b[0m \u001b[0;32mnot\u001b[0m \u001b[0mos\u001b[0m\u001b[0;34m.\u001b[0m\u001b[0mpath\u001b[0m\u001b[0;34m.\u001b[0m\u001b[0mexists\u001b[0m\u001b[0;34m(\u001b[0m\u001b[0msource_directory\u001b[0m\u001b[0;34m)\u001b[0m\u001b[0;34m:\u001b[0m\u001b[0;34m\u001b[0m\u001b[0;34m\u001b[0m\u001b[0m\n\u001b[0m\u001b[1;32m    135\u001b[0m             \u001b[0;32mraise\u001b[0m \u001b[0mIOError\u001b[0m\u001b[0;34m(\u001b[0m\u001b[0;34m\"The source directory you specified does not exist.\"\u001b[0m\u001b[0;34m)\u001b[0m\u001b[0;34m\u001b[0m\u001b[0;34m\u001b[0m\u001b[0m\n\u001b[1;32m    136\u001b[0m \u001b[0;34m\u001b[0m\u001b[0m\n",
            "\u001b[0;32m/usr/lib/python3.7/genericpath.py\u001b[0m in \u001b[0;36mexists\u001b[0;34m(path)\u001b[0m\n\u001b[1;32m     17\u001b[0m     \u001b[0;34m\"\"\"Test whether a path exists.  Returns False for broken symbolic links\"\"\"\u001b[0m\u001b[0;34m\u001b[0m\u001b[0;34m\u001b[0m\u001b[0m\n\u001b[1;32m     18\u001b[0m     \u001b[0;32mtry\u001b[0m\u001b[0;34m:\u001b[0m\u001b[0;34m\u001b[0m\u001b[0;34m\u001b[0m\u001b[0m\n\u001b[0;32m---> 19\u001b[0;31m         \u001b[0mos\u001b[0m\u001b[0;34m.\u001b[0m\u001b[0mstat\u001b[0m\u001b[0;34m(\u001b[0m\u001b[0mpath\u001b[0m\u001b[0;34m)\u001b[0m\u001b[0;34m\u001b[0m\u001b[0;34m\u001b[0m\u001b[0m\n\u001b[0m\u001b[1;32m     20\u001b[0m     \u001b[0;32mexcept\u001b[0m \u001b[0mOSError\u001b[0m\u001b[0;34m:\u001b[0m\u001b[0;34m\u001b[0m\u001b[0;34m\u001b[0m\u001b[0m\n\u001b[1;32m     21\u001b[0m         \u001b[0;32mreturn\u001b[0m \u001b[0;32mFalse\u001b[0m\u001b[0;34m\u001b[0m\u001b[0;34m\u001b[0m\u001b[0m\n",
            "\u001b[0;31mTypeError\u001b[0m: stat: path should be string, bytes, os.PathLike or integer, not list"
          ]
        }
      ]
    },
    {
      "cell_type": "code",
      "metadata": {
        "id": "D9E0xcw3G4M1"
      },
      "source": [
        ""
      ],
      "execution_count": null,
      "outputs": []
    }
  ]
}