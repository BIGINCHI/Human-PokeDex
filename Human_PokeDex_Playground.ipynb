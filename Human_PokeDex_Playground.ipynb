{
  "nbformat": 4,
  "nbformat_minor": 0,
  "metadata": {
    "colab": {
      "name": "Human PokeDex Playground.ipynb",
      "provenance": [],
      "authorship_tag": "ABX9TyO6dAtv/KlxEnhIA35aCb7k",
      "include_colab_link": true
    },
    "kernelspec": {
      "name": "python3",
      "display_name": "Python 3"
    },
    "language_info": {
      "name": "python"
    }
  },
  "cells": [
    {
      "cell_type": "markdown",
      "metadata": {
        "id": "view-in-github",
        "colab_type": "text"
      },
      "source": [
        "<a href=\"https://colab.research.google.com/github/newb-dev-1008/Human-PokeDex/blob/master/Human_PokeDex_Playground.ipynb\" target=\"_parent\"><img src=\"https://colab.research.google.com/assets/colab-badge.svg\" alt=\"Open In Colab\"/></a>"
      ]
    },
    {
      "cell_type": "markdown",
      "metadata": {
        "id": "RHu1mDcHAcPU"
      },
      "source": [
        "# **Human PokeDex - Playground Notebook**\n",
        "\n",
        "This notebook will be used for trying parts of the software to test their implementation."
      ]
    },
    {
      "cell_type": "markdown",
      "metadata": {
        "id": "_rgxQ9qbApnx"
      },
      "source": [
        "# **Data Augmentation**"
      ]
    },
    {
      "cell_type": "markdown",
      "metadata": {
        "id": "N3V9fH4sBNXr"
      },
      "source": [
        "## **Functions for augmentation**"
      ]
    },
    {
      "cell_type": "code",
      "metadata": {
        "id": "LJDEv1J3Bc1o"
      },
      "source": [
        "# Function to blur the image\n",
        "def blurImage(imagePath):\n",
        "    old_image = cv2.imread(imagePath)\n",
        "    image = old_image.copy()\n",
        "    blurredImage = gaussianBlur(copy.deepcopy(image))\n",
        "    filename = \"blurred_\" + imagePath.split(os.path.sep)[-1] + \".jpg\"\n",
        "    cv2.imwrite(filename, blurredImage) \n",
        "\n",
        "# Function to sharpen the image\n",
        "def sharpenImage(imagePath):\n",
        "    old_image = cv2.imread(imagePath)\n",
        "    image = old_image.copy()\n",
        "    kernel = np.array([[-1, -1, -1], [-1, 9, -1], [-1, -1, -1]])\n",
        "    sharpImage = cv2.filter2D(image, -1, kernel)\n",
        "    filename = \"sharpened_\" + imagePath.split(os.path.sep)[-1] + \".jpg\"\n",
        "    cv2.imwrite(filename, sharpImage)\n",
        "\n",
        "# Function to add Sepia effect \n",
        "def sepiaImage(imagePath):\n",
        "    old_image = cv2.imread(imagePath)\n",
        "    image = old_image.copy()\n",
        "    kernel = np.array([[0.272, 0.534, 0.131], [0.349, 0.686, 0.168], [0.393, 0.769, 0.189]])\n",
        "    sepiaImage = cv2.filter2D(image, -1, kernel)\n",
        "    filename = \"sepia_\" + imagePath.split(os.path.sep)[-1] + \".jpg\"\n",
        "    cv2.imwrite(filename, sharpImage)\n",
        "\n",
        "# Function to add brightness\n",
        "def brightImage(imagePath):\n",
        "    old_image = cv2.imread(imagePath)\n",
        "    image = old_image.copy()\n",
        "    brightImage = cv2.convertScaleAbs(image, 3)\n",
        "    filename = \"bright_\" + imagePath.split(os.path.sep)[-1] + \".jpg\"\n",
        "    cv2.imwrite(filename, brightImage)\n",
        "\n",
        "# Tilt image to certain angles\n",
        "def tiltedImage(imagePath):\n",
        "    p = Augmentor.Pipeline(imagePath)\n",
        "    p.rotate(probability = 1, max_left_rotate = 15, max_right_rotate = 15)\n",
        "    old_image = cv2.imread(imagePath)\n",
        "    image = old_image.copy()\n",
        "    tilted_images, label = p.sample(10)\n",
        "    for i in range(len(tilted_images)):\n",
        "        filename = \"tilted_\" + imagePath.split(os.path.sep)[-1] + \"_\" + i + \".jpg\"\n",
        "        cv2.imwrite(filename, tilted_images[i])\n",
        "    \n",
        "# Mirror image\n",
        "def mirrorImage(imagePath):\n",
        "    p = Augmentor.Pipeline(imagePath)\n",
        "    p.flip_left_right(probability = 1)\n",
        "    old_image = cv2.imread(imagePath)\n",
        "    image = old_image.copy()\n",
        "    flipped_images, label = p.sample(1)\n",
        "    filename = \"mirror_\" + imagePath.split(os.path.sep)[-1] + \".jpg\"\n",
        "    cv2.imwrite(filename, flipped_images[0])\n",
        "\n",
        "# Shearing image\n",
        "def shearImage(imagePath):\n",
        "    p = Augmentor.Pipeline(imagePath)\n",
        "    p.shear(probability = 1, 15, 15)\n",
        "    old_image = cv2.imread(imagePath)\n",
        "    image = old_image.copy()\n",
        "    sheared_images, label = p.sample(10)\n",
        "    for i in range(len(sheared_images)):\n",
        "        filename = \"sheared_\" + imagePath.split(os.path.sep)[-1] + \"_\" + i + \".jpg\"\n",
        "        cv2.imwrite(filename, sheared_images[i])\n",
        "\n",
        "# Skewing image\n",
        "def skewedImage(imagePath):\n",
        "    p = Augmentor.Pipeline(imagePath)\n",
        "    p.skew(probability = 1, magnitude = 0.7)\n",
        "    old_image = cv2.imread(imagePath)\n",
        "    image = old_image.copy()\n",
        "    skewed_images, label = p.sample(10)\n",
        "    for i in range(len(skewed_images)):\n",
        "        filename = \"skewed_\" + imagePath.split(os.path.sep)[-1] + \"_\" + i + \".jpg\"\n",
        "        cv2.imwrite(filename, skewed_images[i])\n",
        "\n",
        "# Black and White \n",
        "def bwImage(imagePath):\n",
        "    p = Augmentor.Pipeline(imagePath)\n",
        "    p.black_and_white(probability = 1, threshold = 256)\n",
        "    old_image = cv2.imread(imagePath)\n",
        "    image = old_image.copy()\n",
        "    bwImages, label = p.sample(1)\n",
        "    for i in range(len(bwImages)):\n",
        "        filename = \"bw_\" + imagePath.split(os.path.sep)[-1] + \".jpg\"\n",
        "        cv2.imwrite(filename, bwImages[0])"
      ],
      "execution_count": null,
      "outputs": []
    },
    {
      "cell_type": "markdown",
      "metadata": {
        "id": "_njatv58BG9R"
      },
      "source": [
        "## **Driver Program for Data Augmentation**"
      ]
    },
    {
      "cell_type": "code",
      "metadata": {
        "id": "neFgMn6vAbZf"
      },
      "source": [
        "import numpy as np\n",
        "import Augmentor\n",
        "\n",
        "imagePaths = list(paths.list_images(\"C:\\\\Users\\\\Yash Umale\\\\Documents\\\\6th Sem\\\\Open Lab\\\\Python Files\\\\Project Files\\\\New Datasets\"))\n",
        "\n",
        "for imagePath in imagePaths:\n",
        "    name = imagePath.split(os.path.sep)[-2]\n",
        "\n",
        "    # Perform data augmentation\n",
        "    \n",
        "    blurImage(imagePath)\n",
        "    sharpenImage(imagePath)\n",
        "    sepiaImage(imagePath)\n",
        "    brightImage(imagePath)\n",
        "    tiltedImage(imagePath)\n",
        "    mirrorImage(imagePath)\n",
        "    shearImage(imagePath)\n",
        "    skewedImage(imagePath)\n",
        "    bwImage(imagePath)"
      ],
      "execution_count": null,
      "outputs": []
    }
  ]
}