{
  "nbformat": 4,
  "nbformat_minor": 0,
  "metadata": {
    "colab": {
      "name": "Human PokeDex Playground.ipynb",
      "provenance": [],
      "mount_file_id": "https://github.com/newb-dev-1008/Human-PokeDex/blob/master/Human_PokeDex_Playground.ipynb",
      "authorship_tag": "ABX9TyOtm40Uzp4KYiCYJveDdzLa",
      "include_colab_link": true
    },
    "kernelspec": {
      "name": "python3",
      "display_name": "Python 3"
    },
    "language_info": {
      "name": "python"
    }
  },
  "cells": [
    {
      "cell_type": "markdown",
      "metadata": {
        "id": "view-in-github",
        "colab_type": "text"
      },
      "source": [
        "<a href=\"https://colab.research.google.com/github/newb-dev-1008/Human-PokeDex/blob/master/Human_PokeDex_Playground.ipynb\" target=\"_parent\"><img src=\"https://colab.research.google.com/assets/colab-badge.svg\" alt=\"Open In Colab\"/></a>"
      ]
    },
    {
      "cell_type": "markdown",
      "metadata": {
        "id": "RHu1mDcHAcPU"
      },
      "source": [
        "# **Human PokeDex - Playground Notebook**\n",
        "\n",
        "This notebook will be used for trying parts of the software to test their implementation."
      ]
    },
    {
      "cell_type": "markdown",
      "metadata": {
        "id": "_rgxQ9qbApnx"
      },
      "source": [
        "# **Data Augmentation**"
      ]
    },
    {
      "cell_type": "markdown",
      "metadata": {
        "id": "N3V9fH4sBNXr"
      },
      "source": [
        "## **Functions for augmentation**"
      ]
    },
    {
      "cell_type": "code",
      "metadata": {
        "id": "h-MlaMMJGyvv",
        "colab": {
          "base_uri": "https://localhost:8080/"
        },
        "outputId": "a59731f5-293b-4fb8-d112-d9be04e2c05b"
      },
      "source": [
        "!pip install Augmentor"
      ],
      "execution_count": 1,
      "outputs": [
        {
          "output_type": "stream",
          "text": [
            "Requirement already satisfied: Augmentor in /usr/local/lib/python3.7/dist-packages (0.2.8)\n",
            "Requirement already satisfied: tqdm>=4.9.0 in /usr/local/lib/python3.7/dist-packages (from Augmentor) (4.41.1)\n",
            "Requirement already satisfied: Pillow>=5.2.0 in /usr/local/lib/python3.7/dist-packages (from Augmentor) (7.1.2)\n",
            "Requirement already satisfied: future>=0.16.0 in /usr/local/lib/python3.7/dist-packages (from Augmentor) (0.16.0)\n",
            "Requirement already satisfied: numpy>=1.11.0 in /usr/local/lib/python3.7/dist-packages (from Augmentor) (1.19.5)\n"
          ],
          "name": "stdout"
        }
      ]
    },
    {
      "cell_type": "code",
      "metadata": {
        "id": "U795lUjnHr2K",
        "colab": {
          "base_uri": "https://localhost:8080/"
        },
        "outputId": "d6612d96-b076-42a3-bde6-1c8a5f39c357"
      },
      "source": [
        "!pip install --upgrade imutils"
      ],
      "execution_count": 2,
      "outputs": [
        {
          "output_type": "stream",
          "text": [
            "Requirement already up-to-date: imutils in /usr/local/lib/python3.7/dist-packages (0.5.4)\n"
          ],
          "name": "stdout"
        }
      ]
    },
    {
      "cell_type": "code",
      "metadata": {
        "id": "Khtxk9lCwvpE",
        "colab": {
          "base_uri": "https://localhost:8080/"
        },
        "outputId": "a26346ab-79fa-4ba3-95dc-55f640ca0e0f"
      },
      "source": [
        "!pip install --upgrade firebase-admin"
      ],
      "execution_count": 3,
      "outputs": [
        {
          "output_type": "stream",
          "text": [
            "Requirement already up-to-date: firebase-admin in /usr/local/lib/python3.7/dist-packages (4.5.3)\n",
            "Requirement already satisfied, skipping upgrade: google-api-python-client>=1.7.8 in /usr/local/lib/python3.7/dist-packages (from firebase-admin) (1.12.8)\n",
            "Requirement already satisfied, skipping upgrade: google-cloud-storage>=1.18.0 in /usr/local/lib/python3.7/dist-packages (from firebase-admin) (1.18.1)\n",
            "Requirement already satisfied, skipping upgrade: cachecontrol>=0.12.6 in /usr/local/lib/python3.7/dist-packages (from firebase-admin) (0.12.6)\n",
            "Requirement already satisfied, skipping upgrade: google-cloud-firestore>=1.4.0; platform_python_implementation != \"PyPy\" in /usr/local/lib/python3.7/dist-packages (from firebase-admin) (1.7.0)\n",
            "Requirement already satisfied, skipping upgrade: google-api-core[grpc]<2.0.0dev,>=1.14.0; platform_python_implementation != \"PyPy\" in /usr/local/lib/python3.7/dist-packages (from firebase-admin) (1.26.2)\n",
            "Requirement already satisfied, skipping upgrade: google-auth>=1.16.0 in /usr/local/lib/python3.7/dist-packages (from google-api-python-client>=1.7.8->firebase-admin) (1.28.0)\n",
            "Requirement already satisfied, skipping upgrade: httplib2<1dev,>=0.15.0 in /usr/local/lib/python3.7/dist-packages (from google-api-python-client>=1.7.8->firebase-admin) (0.17.4)\n",
            "Requirement already satisfied, skipping upgrade: six<2dev,>=1.13.0 in /usr/local/lib/python3.7/dist-packages (from google-api-python-client>=1.7.8->firebase-admin) (1.15.0)\n",
            "Requirement already satisfied, skipping upgrade: uritemplate<4dev,>=3.0.0 in /usr/local/lib/python3.7/dist-packages (from google-api-python-client>=1.7.8->firebase-admin) (3.0.1)\n",
            "Requirement already satisfied, skipping upgrade: google-auth-httplib2>=0.0.3 in /usr/local/lib/python3.7/dist-packages (from google-api-python-client>=1.7.8->firebase-admin) (0.0.4)\n",
            "Requirement already satisfied, skipping upgrade: google-cloud-core<2.0dev,>=1.0.0 in /usr/local/lib/python3.7/dist-packages (from google-cloud-storage>=1.18.0->firebase-admin) (1.0.3)\n",
            "Requirement already satisfied, skipping upgrade: google-resumable-media<0.5.0dev,>=0.3.1 in /usr/local/lib/python3.7/dist-packages (from google-cloud-storage>=1.18.0->firebase-admin) (0.4.1)\n",
            "Requirement already satisfied, skipping upgrade: requests in /usr/local/lib/python3.7/dist-packages (from cachecontrol>=0.12.6->firebase-admin) (2.23.0)\n",
            "Requirement already satisfied, skipping upgrade: msgpack>=0.5.2 in /usr/local/lib/python3.7/dist-packages (from cachecontrol>=0.12.6->firebase-admin) (1.0.2)\n",
            "Requirement already satisfied, skipping upgrade: pytz in /usr/local/lib/python3.7/dist-packages (from google-cloud-firestore>=1.4.0; platform_python_implementation != \"PyPy\"->firebase-admin) (2018.9)\n",
            "Requirement already satisfied, skipping upgrade: googleapis-common-protos<2.0dev,>=1.6.0 in /usr/local/lib/python3.7/dist-packages (from google-api-core[grpc]<2.0.0dev,>=1.14.0; platform_python_implementation != \"PyPy\"->firebase-admin) (1.53.0)\n",
            "Requirement already satisfied, skipping upgrade: packaging>=14.3 in /usr/local/lib/python3.7/dist-packages (from google-api-core[grpc]<2.0.0dev,>=1.14.0; platform_python_implementation != \"PyPy\"->firebase-admin) (20.9)\n",
            "Requirement already satisfied, skipping upgrade: protobuf>=3.12.0 in /usr/local/lib/python3.7/dist-packages (from google-api-core[grpc]<2.0.0dev,>=1.14.0; platform_python_implementation != \"PyPy\"->firebase-admin) (3.12.4)\n",
            "Requirement already satisfied, skipping upgrade: setuptools>=40.3.0 in /usr/local/lib/python3.7/dist-packages (from google-api-core[grpc]<2.0.0dev,>=1.14.0; platform_python_implementation != \"PyPy\"->firebase-admin) (54.2.0)\n",
            "Requirement already satisfied, skipping upgrade: grpcio<2.0dev,>=1.29.0; extra == \"grpc\" in /usr/local/lib/python3.7/dist-packages (from google-api-core[grpc]<2.0.0dev,>=1.14.0; platform_python_implementation != \"PyPy\"->firebase-admin) (1.32.0)\n",
            "Requirement already satisfied, skipping upgrade: cachetools<5.0,>=2.0.0 in /usr/local/lib/python3.7/dist-packages (from google-auth>=1.16.0->google-api-python-client>=1.7.8->firebase-admin) (4.2.1)\n",
            "Requirement already satisfied, skipping upgrade: pyasn1-modules>=0.2.1 in /usr/local/lib/python3.7/dist-packages (from google-auth>=1.16.0->google-api-python-client>=1.7.8->firebase-admin) (0.2.8)\n",
            "Requirement already satisfied, skipping upgrade: rsa<5,>=3.1.4; python_version >= \"3.6\" in /usr/local/lib/python3.7/dist-packages (from google-auth>=1.16.0->google-api-python-client>=1.7.8->firebase-admin) (4.7.2)\n",
            "Requirement already satisfied, skipping upgrade: idna<3,>=2.5 in /usr/local/lib/python3.7/dist-packages (from requests->cachecontrol>=0.12.6->firebase-admin) (2.10)\n",
            "Requirement already satisfied, skipping upgrade: chardet<4,>=3.0.2 in /usr/local/lib/python3.7/dist-packages (from requests->cachecontrol>=0.12.6->firebase-admin) (3.0.4)\n",
            "Requirement already satisfied, skipping upgrade: certifi>=2017.4.17 in /usr/local/lib/python3.7/dist-packages (from requests->cachecontrol>=0.12.6->firebase-admin) (2020.12.5)\n",
            "Requirement already satisfied, skipping upgrade: urllib3!=1.25.0,!=1.25.1,<1.26,>=1.21.1 in /usr/local/lib/python3.7/dist-packages (from requests->cachecontrol>=0.12.6->firebase-admin) (1.24.3)\n",
            "Requirement already satisfied, skipping upgrade: pyparsing>=2.0.2 in /usr/local/lib/python3.7/dist-packages (from packaging>=14.3->google-api-core[grpc]<2.0.0dev,>=1.14.0; platform_python_implementation != \"PyPy\"->firebase-admin) (2.4.7)\n",
            "Requirement already satisfied, skipping upgrade: pyasn1<0.5.0,>=0.4.6 in /usr/local/lib/python3.7/dist-packages (from pyasn1-modules>=0.2.1->google-auth>=1.16.0->google-api-python-client>=1.7.8->firebase-admin) (0.4.8)\n"
          ],
          "name": "stdout"
        }
      ]
    },
    {
      "cell_type": "code",
      "metadata": {
        "id": "LJDEv1J3Bc1o"
      },
      "source": [
        "import numpy as np\n",
        "from imutils import paths\n",
        "import Augmentor\n",
        "import cv2\n",
        "import os\n",
        "import firebase_admin\n",
        "from firebase_admin import firestore\n",
        "from firebase_admin import credentials\n",
        "\n",
        "# Function to retrieve person's name\n",
        "def firestoreName():\n",
        "  cred = credentials.Certificate(\"/content/drive/MyDrive/Open Lab/Private Keys/human-pokedex-firebase-adminsdk-37ou3-147a3cdcff.json\")\n",
        "  firebase_admin.initialize_app(cred, {\n",
        "  'projectId': 'human-pokedex',\n",
        "  })\n",
        "  db = firestore.client()\n",
        "  users_ref = db.collection(u'New Users')\n",
        "  docs = users_ref.stream()\n",
        "\n",
        "  userName = \"\"\n",
        "\n",
        "  for doc in docs:\n",
        "    dict1 = doc.to_dict()\n",
        "    userName = dict1['Username']\n",
        "  \n",
        "  return userName\n",
        "\n",
        "# Function to blur the image\n",
        "def blurImage(imagePath, userName):\n",
        "    old_image = cv2.imread(imagePath)\n",
        "    image = old_image.copy()\n",
        "    blurredImage = cv2.blur(image, (3, 3))\n",
        "    filename = \"blurred_\" + userName + \"_\" + \".jpg\"\n",
        "    os.mkdir(r'/content/drive/MyDrive/Open Lab/Datasets 1/' + userName)\n",
        "    os.chdir(r'/content/drive/MyDrive/Open Lab/Datasets 1/' + userName)\n",
        "    cv2.imwrite(filename, blurredImage) \n",
        "\n",
        "# Function to sharpen the image\n",
        "def sharpenImage(imagePath, userName):\n",
        "    old_image = cv2.imread(imagePath)\n",
        "    image = old_image.copy()\n",
        "    kernel = np.array([[-1, -1, -1], [-1, 9, -1], [-1, -1, -1]])\n",
        "    sharpImage = cv2.filter2D(image, -1, kernel)\n",
        "    filename = \"sharpened_\" + userName + \".jpg\"\n",
        "    os.mkdir(r'/content/drive/MyDrive/Open Lab/Datasets 1/' + userName)\n",
        "    os.chdir(r'/content/drive/MyDrive/Open Lab/Datasets 1/' + userName)\n",
        "    cv2.imwrite(filename, sharpImage)\n",
        "\n",
        "# Function to add Sepia effect \n",
        "def sepiaImage(imagePath, userName):\n",
        "    old_image = cv2.imread(imagePath)\n",
        "    image = old_image.copy()\n",
        "    kernel = np.array([[0.272, 0.534, 0.131], [0.349, 0.686, 0.168], [0.393, 0.769, 0.189]])\n",
        "    sepiaImage = cv2.filter2D(image, -1, kernel)\n",
        "    filename = \"sepia_\" + userName + \".jpg\"\n",
        "    os.mkdir(r'/content/drive/MyDrive/Open Lab/Datasets 1/' + userName)\n",
        "    os.chdir(r'/content/drive/MyDrive/Open Lab/Datasets 1/' + userName)\n",
        "    cv2.imwrite(filename, sepiaImage)\n",
        "\n",
        "# Function to add brightness\n",
        "def brightImage(imagePath, userName):\n",
        "    old_image = cv2.imread(imagePath)\n",
        "    image = old_image.copy()\n",
        "    brightImage = cv2.convertScaleAbs(image, 3)\n",
        "    filename = \"bright_\" + userName + \".jpg\"\n",
        "    os.mkdir(r'/content/drive/MyDrive/Open Lab/Datasets 1/' + userName)\n",
        "    os.chdir(r'/content/drive/MyDrive/Open Lab/Datasets 1/' + userName)\n",
        "    cv2.imwrite(filename, brightImage)\n",
        "\n",
        "# Tilt image to certain angles\n",
        "def tiltedImage(imagePath, userName):\n",
        "    p = Augmentor.Pipeline(imagePath)\n",
        "    p.rotate(1, 15, 15)\n",
        "    # old_image = cv2.imread(imagePath)\n",
        "    # image = old_image.copy()\n",
        "    tilted_images, label = p.sample(10)\n",
        "    os.mkdir(r'/content/drive/MyDrive/Open Lab/Datasets 1/' + userName)\n",
        "    os.chdir(r'/content/drive/MyDrive/Open Lab/Datasets 1/' + userName)\n",
        "    for i in range(len(tilted_images)):\n",
        "        filename = \"tilted_\" + userName + \"_\" + i + \".jpg\"\n",
        "        cv2.imwrite(filename, tilted_images[i])\n",
        "    \n",
        "# Mirror image\n",
        "def mirrorImage(imagePath, userName):\n",
        "    p = Augmentor.Pipeline(imagePath)\n",
        "    p.flip_left_right(probability = 1)\n",
        "    # old_image = cv2.imread(imagePath)\n",
        "    # image = old_image.copy()\n",
        "    flipped_images, label = p.sample(10)\n",
        "    os.mkdir(r'/content/drive/MyDrive/Open Lab/Datasets 1/' + userName)\n",
        "    os.chdir(r'/content/drive/MyDrive/Open Lab/Datasets 1/' + userName)\n",
        "    filename = \"mirror_\" + userName + \".jpg\"\n",
        "    cv2.imwrite(filename, flipped_images[0])\n",
        "\n",
        "# Shearing image\n",
        "def shearImage(imagePath, userName):\n",
        "    p = Augmentor.Pipeline(imagePath)\n",
        "    p.shear(probability = 1, max_shear_left = 15, max_shear_right = 15)\n",
        "    # old_image = cv2.imread(imagePath)\n",
        "    # image = old_image.copy()\n",
        "    sheared_images, label = p.sample(10)\n",
        "    os.mkdir(r'/content/drive/MyDrive/Open Lab/Datasets 1/' + userName)\n",
        "    os.chdir(r'/content/drive/MyDrive/Open Lab/Datasets 1/' + userName)\n",
        "    for i in range(len(sheared_images)):\n",
        "        filename = \"sheared_\" + userName + \"_\" + i + \".jpg\"\n",
        "        cv2.imwrite(filename, sheared_images[i])\n",
        "\n",
        "# Skewing image\n",
        "def skewedImage(imagePath, userName):\n",
        "    p = Augmentor.Pipeline(imagePath)\n",
        "    p.skew(probability = 1, magnitude = 0.7)\n",
        "    # old_image = cv2.imread(imagePath)\n",
        "    # image = old_image.copy()\n",
        "    skewed_images, label = p.sample(10)\n",
        "    os.mkdir(r'/content/drive/MyDrive/Open Lab/Datasets 1/' + userName)\n",
        "    os.chdir(r'/content/drive/MyDrive/Open Lab/Datasets 1/' + userName)\n",
        "    for i in range(len(skewed_images)):\n",
        "        filename = \"skewed_\" + userName + \"_\" + i + \".jpg\"\n",
        "        cv2.imwrite(filename, skewed_images[i])\n",
        "\n",
        "# Black and White \n",
        "def bwImage(imagePath, userName):\n",
        "    p = Augmentor.Pipeline(imagePath)\n",
        "    p.black_and_white(probability = 1, threshold = 256)\n",
        "    # old_image = cv2.imread(imagePath)\n",
        "    # image = old_image.copy()\n",
        "    bwImages, label = p.sample(10)\n",
        "    os.mkdir(r'/content/drive/MyDrive/Open Lab/Datasets 1/' + userName)\n",
        "    os.chdir(r'/content/drive/MyDrive/Open Lab/Datasets 1/' + userName)\n",
        "    for i in range(len(bwImages)):\n",
        "        filename = \"bw_\" + userName + \"_\" + i + \".jpg\"\n",
        "        cv2.imwrite(filename, bwImages[0])\n"
      ],
      "execution_count": 1,
      "outputs": []
    },
    {
      "cell_type": "markdown",
      "metadata": {
        "id": "_njatv58BG9R"
      },
      "source": [
        "## **Driver Program for Data Augmentation**"
      ]
    },
    {
      "cell_type": "code",
      "metadata": {
        "id": "neFgMn6vAbZf",
        "colab": {
          "base_uri": "https://localhost:8080/",
          "height": 346
        },
        "outputId": "6ba55b00-c546-4747-ba2d-e1000cd80c91"
      },
      "source": [
        "imagePaths = list(paths.list_images(r\"/content/drive/MyDrive/Open Lab/New Datasets 1\"))\n",
        "# imgPath = list(paths.list_images(r'/content/drive/MyDrive/Open Lab/Datasets/Vikas'))\n",
        "\n",
        "name = firestoreName()\n",
        "\n",
        "for imagePath in imagePaths:\n",
        "\n",
        "    # Perform data augmentation\n",
        "    \n",
        "    blurImage(imagePath, name)\n",
        "    sharpenImage(imagePath, name)\n",
        "    sepiaImage(imagePath, name)\n",
        "    brightImage(imagePath, name)\n",
        "    \n",
        "shearImage(imagePaths, name)\n",
        "skewedImage(imagePaths, name)\n",
        "bwImage(imagePaths, name)\n",
        "tiltedImage(imagePaths, name)\n",
        "mirrorImage(imagePaths, name)\n",
        "\n",
        "print(\"Done with all images.\\n\")"
      ],
      "execution_count": 2,
      "outputs": [
        {
          "output_type": "error",
          "ename": "FileNotFoundError",
          "evalue": "ignored",
          "traceback": [
            "\u001b[0;31m---------------------------------------------------------------------------\u001b[0m",
            "\u001b[0;31mFileNotFoundError\u001b[0m                         Traceback (most recent call last)",
            "\u001b[0;32m<ipython-input-2-a2943c8376ba>\u001b[0m in \u001b[0;36m<module>\u001b[0;34m()\u001b[0m\n\u001b[1;32m      8\u001b[0m     \u001b[0;31m# Perform data augmentation\u001b[0m\u001b[0;34m\u001b[0m\u001b[0;34m\u001b[0m\u001b[0;34m\u001b[0m\u001b[0m\n\u001b[1;32m      9\u001b[0m \u001b[0;34m\u001b[0m\u001b[0m\n\u001b[0;32m---> 10\u001b[0;31m     \u001b[0mblurImage\u001b[0m\u001b[0;34m(\u001b[0m\u001b[0mimagePath\u001b[0m\u001b[0;34m,\u001b[0m \u001b[0mname\u001b[0m\u001b[0;34m)\u001b[0m\u001b[0;34m\u001b[0m\u001b[0;34m\u001b[0m\u001b[0m\n\u001b[0m\u001b[1;32m     11\u001b[0m     \u001b[0msharpenImage\u001b[0m\u001b[0;34m(\u001b[0m\u001b[0mimagePath\u001b[0m\u001b[0;34m,\u001b[0m \u001b[0mname\u001b[0m\u001b[0;34m)\u001b[0m\u001b[0;34m\u001b[0m\u001b[0;34m\u001b[0m\u001b[0m\n\u001b[1;32m     12\u001b[0m     \u001b[0msepiaImage\u001b[0m\u001b[0;34m(\u001b[0m\u001b[0mimagePath\u001b[0m\u001b[0;34m,\u001b[0m \u001b[0mname\u001b[0m\u001b[0;34m)\u001b[0m\u001b[0;34m\u001b[0m\u001b[0;34m\u001b[0m\u001b[0m\n",
            "\u001b[0;32m<ipython-input-1-087e596fda46>\u001b[0m in \u001b[0;36mblurImage\u001b[0;34m(imagePath, userName)\u001b[0m\n\u001b[1;32m     32\u001b[0m     \u001b[0mblurredImage\u001b[0m \u001b[0;34m=\u001b[0m \u001b[0mcv2\u001b[0m\u001b[0;34m.\u001b[0m\u001b[0mblur\u001b[0m\u001b[0;34m(\u001b[0m\u001b[0mimage\u001b[0m\u001b[0;34m,\u001b[0m \u001b[0;34m(\u001b[0m\u001b[0;36m3\u001b[0m\u001b[0;34m,\u001b[0m \u001b[0;36m3\u001b[0m\u001b[0;34m)\u001b[0m\u001b[0;34m)\u001b[0m\u001b[0;34m\u001b[0m\u001b[0;34m\u001b[0m\u001b[0m\n\u001b[1;32m     33\u001b[0m     \u001b[0mfilename\u001b[0m \u001b[0;34m=\u001b[0m \u001b[0;34m\"blurred_\"\u001b[0m \u001b[0;34m+\u001b[0m \u001b[0muserName\u001b[0m \u001b[0;34m+\u001b[0m \u001b[0;34m\"_\"\u001b[0m \u001b[0;34m+\u001b[0m \u001b[0;34m\".jpg\"\u001b[0m\u001b[0;34m\u001b[0m\u001b[0;34m\u001b[0m\u001b[0m\n\u001b[0;32m---> 34\u001b[0;31m     \u001b[0mos\u001b[0m\u001b[0;34m.\u001b[0m\u001b[0mchdir\u001b[0m\u001b[0;34m(\u001b[0m\u001b[0;34mr'/content/drive/MyDrive/Open Lab/Datasets/'\u001b[0m \u001b[0;34m+\u001b[0m \u001b[0muserName\u001b[0m\u001b[0;34m)\u001b[0m\u001b[0;34m\u001b[0m\u001b[0;34m\u001b[0m\u001b[0m\n\u001b[0m\u001b[1;32m     35\u001b[0m     \u001b[0mcv2\u001b[0m\u001b[0;34m.\u001b[0m\u001b[0mimwrite\u001b[0m\u001b[0;34m(\u001b[0m\u001b[0mfilename\u001b[0m\u001b[0;34m,\u001b[0m \u001b[0mblurredImage\u001b[0m\u001b[0;34m)\u001b[0m\u001b[0;34m\u001b[0m\u001b[0;34m\u001b[0m\u001b[0m\n\u001b[1;32m     36\u001b[0m \u001b[0;34m\u001b[0m\u001b[0m\n",
            "\u001b[0;31mFileNotFoundError\u001b[0m: [Errno 2] No such file or directory: '/content/drive/MyDrive/Open Lab/Datasets/Yash'"
          ]
        }
      ]
    },
    {
      "cell_type": "code",
      "metadata": {
        "id": "D9E0xcw3G4M1"
      },
      "source": [
        ""
      ],
      "execution_count": null,
      "outputs": []
    }
  ]
}