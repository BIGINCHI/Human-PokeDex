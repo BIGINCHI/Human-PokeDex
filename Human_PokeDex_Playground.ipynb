{
  "nbformat": 4,
  "nbformat_minor": 0,
  "metadata": {
    "colab": {
      "name": "Human PokeDex Playground.ipynb",
      "provenance": [],
      "mount_file_id": "https://github.com/newb-dev-1008/Human-PokeDex/blob/master/Human_PokeDex_Playground.ipynb",
      "authorship_tag": "ABX9TyNL6lZ4Ebq1a5auDVS4B+i6",
      "include_colab_link": true
    },
    "kernelspec": {
      "name": "python3",
      "display_name": "Python 3"
    },
    "language_info": {
      "name": "python"
    }
  },
  "cells": [
    {
      "cell_type": "markdown",
      "metadata": {
        "id": "view-in-github",
        "colab_type": "text"
      },
      "source": [
        "<a href=\"https://colab.research.google.com/github/newb-dev-1008/Human-PokeDex/blob/master/Human_PokeDex_Playground.ipynb\" target=\"_parent\"><img src=\"https://colab.research.google.com/assets/colab-badge.svg\" alt=\"Open In Colab\"/></a>"
      ]
    },
    {
      "cell_type": "markdown",
      "metadata": {
        "id": "RHu1mDcHAcPU"
      },
      "source": [
        "# **Human PokeDex - Playground Notebook**\n",
        "\n",
        "This notebook will be used for trying parts of the software to test their implementation."
      ]
    },
    {
      "cell_type": "markdown",
      "metadata": {
        "id": "_rgxQ9qbApnx"
      },
      "source": [
        "# **Data Augmentation**"
      ]
    },
    {
      "cell_type": "markdown",
      "metadata": {
        "id": "N3V9fH4sBNXr"
      },
      "source": [
        "## **Functions for augmentation**"
      ]
    },
    {
      "cell_type": "code",
      "metadata": {
        "id": "h-MlaMMJGyvv",
        "colab": {
          "base_uri": "https://localhost:8080/"
        },
        "outputId": "54cc7781-136a-484f-d919-0f458c0509fe"
      },
      "source": [
        "!pip install Augmentor"
      ],
      "execution_count": 8,
      "outputs": [
        {
          "output_type": "stream",
          "text": [
            "shell-init: error retrieving current directory: getcwd: cannot access parent directories: No such file or directory\n",
            "shell-init: error retrieving current directory: getcwd: cannot access parent directories: No such file or directory\n",
            "The folder you are executing pip from can no longer be found.\n"
          ],
          "name": "stdout"
        }
      ]
    },
    {
      "cell_type": "code",
      "metadata": {
        "id": "U795lUjnHr2K",
        "colab": {
          "base_uri": "https://localhost:8080/"
        },
        "outputId": "088d901e-a62b-439b-d938-8f2d42a5401e"
      },
      "source": [
        "!pip install --upgrade imutils"
      ],
      "execution_count": 9,
      "outputs": [
        {
          "output_type": "stream",
          "text": [
            "shell-init: error retrieving current directory: getcwd: cannot access parent directories: No such file or directory\n",
            "shell-init: error retrieving current directory: getcwd: cannot access parent directories: No such file or directory\n",
            "The folder you are executing pip from can no longer be found.\n"
          ],
          "name": "stdout"
        }
      ]
    },
    {
      "cell_type": "code",
      "metadata": {
        "id": "Khtxk9lCwvpE",
        "colab": {
          "base_uri": "https://localhost:8080/"
        },
        "outputId": "940fd27f-8766-487a-fff3-1ec1752a9ee1"
      },
      "source": [
        "!pip install --upgrade firebase-admin"
      ],
      "execution_count": 10,
      "outputs": [
        {
          "output_type": "stream",
          "text": [
            "shell-init: error retrieving current directory: getcwd: cannot access parent directories: No such file or directory\n",
            "shell-init: error retrieving current directory: getcwd: cannot access parent directories: No such file or directory\n",
            "The folder you are executing pip from can no longer be found.\n"
          ],
          "name": "stdout"
        }
      ]
    },
    {
      "cell_type": "code",
      "metadata": {
        "id": "LJDEv1J3Bc1o"
      },
      "source": [
        "import numpy as np\n",
        "from imutils import paths\n",
        "import Augmentor\n",
        "import cv2\n",
        "import os\n",
        "import firebase_admin\n",
        "from firebase_admin import firestore\n",
        "from firebase_admin import credentials\n",
        "\n",
        "# Function to retrieve person's name\n",
        "def firestoreName():\n",
        "  cred = credentials.Certificate(\"/content/drive/MyDrive/Open Lab/Private Keys/human-pokedex-firebase-adminsdk-37ou3-147a3cdcff.json\")\n",
        "  firebase_admin.initialize_app(cred, {\n",
        "  'projectId': 'human-pokedex',\n",
        "  })\n",
        "  db = firestore.client()\n",
        "  users_ref = db.collection(u'New Users')\n",
        "  docs = users_ref.stream()\n",
        "\n",
        "  userName = \"\"\n",
        "\n",
        "  for doc in docs:\n",
        "    dict1 = doc.to_dict()\n",
        "    userName = dict1['Username']\n",
        "  \n",
        "  return userName\n",
        "\n",
        "# Function to blur the image\n",
        "def blurImage(imagePath, userName, i):\n",
        "    old_image = cv2.imread(imagePath)\n",
        "    image = old_image.copy()\n",
        "    blurredImage = cv2.blur(image, (3, 3))\n",
        "    filename = \"blurred_\" + userName + \"_\" + str(i) + \".jpg\"\n",
        "    os.chdir(r'/content/drive/MyDrive/Open Lab/Datasets 1/' + userName)\n",
        "    cv2.imwrite(filename, blurredImage) \n",
        "\n",
        "# Function to sharpen the image\n",
        "def sharpenImage(imagePath, userName, i):\n",
        "    old_image = cv2.imread(imagePath)\n",
        "    image = old_image.copy()\n",
        "    kernel = np.array([[-1, -1, -1], [-1, 9, -1], [-1, -1, -1]])\n",
        "    sharpImage = cv2.filter2D(image, -1, kernel)\n",
        "    filename = \"sharpened_\" + userName + \"_\" + str(i) + \".jpg\"\n",
        "    os.chdir(r'/content/drive/MyDrive/Open Lab/Datasets 1/' + userName)\n",
        "    cv2.imwrite(filename, sharpImage)\n",
        "\n",
        "# Function to add Sepia effect \n",
        "def sepiaImage(imagePath, userName, i):\n",
        "    old_image = cv2.imread(imagePath)\n",
        "    image = old_image.copy()\n",
        "    kernel = np.array([[0.272, 0.534, 0.131], [0.349, 0.686, 0.168], [0.393, 0.769, 0.189]])\n",
        "    sepiaImage = cv2.filter2D(image, -1, kernel)\n",
        "    filename = \"sepia_\" + userName +  \"_\" + str(i) + \".jpg\"\n",
        "    os.chdir(r'/content/drive/MyDrive/Open Lab/Datasets 1/' + userName)\n",
        "    cv2.imwrite(filename, sepiaImage)\n",
        "\n",
        "# Function to add brightness\n",
        "def brightImage(imagePath, userName, i):\n",
        "    old_image = cv2.imread(imagePath)\n",
        "    image = old_image.copy()\n",
        "    brightImage = cv2.convertScaleAbs(image, 3)\n",
        "    filename = \"bright_\" + userName +  \"_\" + str(i) + \".jpg\"\n",
        "    os.chdir(r'/content/drive/MyDrive/Open Lab/Datasets 1/' + userName)\n",
        "    cv2.imwrite(filename, brightImage)\n",
        "\n",
        "# Tilt image to certain angles\n",
        "def tiltedImage(imagePath, userName):\n",
        "    p = Augmentor.Pipeline(imagePath)\n",
        "    p.rotate(1, 15, 15)\n",
        "    old_image = cv2.imread(imagePath)\n",
        "    # image = old_image.copy()\n",
        "    # tilted_images, label = p.sample(10)\n",
        "    # os.chdir(r'/content/drive/MyDrive/Open Lab/Datasets 1/' + userName)\n",
        "    # for i in range(len(tilted_images)):\n",
        "    #     filename = \"tilted_\" + userName + \"_\" + str(i) + \".jpg\"\n",
        "    #     cv2.imwrite(filename, tilted_images[i])\n",
        "    \n",
        "# Mirror image\n",
        "def mirrorImage(imagePath, userName):\n",
        "    p = Augmentor.Pipeline(imagePath)\n",
        "    p.flip_left_right(probability = 1)\n",
        "    old_image = cv2.imread(imagePath)\n",
        "    # image = old_image.copy()\n",
        "    # flipped_images, label = p.sample(10)\n",
        "    # os.chdir(r'/content/drive/MyDrive/Open Lab/Datasets 1/' + userName)\n",
        "    # for i in range(len(flipped_images)):\n",
        "    #     filename = \"flipped_\" + userName + \"_\" + str(i) + \".jpg\"\n",
        "    #     cv2.imwrite(filename, flipped_images[i])\n",
        "\n",
        "# Shearing image\n",
        "def shearImage(imagePath, userName):\n",
        "    p = Augmentor.Pipeline(imagePath)\n",
        "    p.shear(probability = 1, max_shear_left = 15, max_shear_right = 15)\n",
        "    old_image = cv2.imread(imagePath)\n",
        "    # image = old_image.copy()\n",
        "    # sheared_images, label = p.sample(10)\n",
        "    # os.chdir(r'/content/drive/MyDrive/Open Lab/Datasets 1/' + userName)\n",
        "    # for i in range(len(sheared_images)):\n",
        "    #     filename = \"sheared_\" + userName + \"_\" + str(i) + \".jpg\"\n",
        "    #     cv2.imwrite(filename, sheared_images[i])\n",
        "\n",
        "# Skewing image\n",
        "def skewedImage(imagePath, userName):\n",
        "    p = Augmentor.Pipeline(imagePath)\n",
        "    p.skew(probability = 1, magnitude = 0.7)\n",
        "    old_image = cv2.imread(imagePath)\n",
        "    # image = old_image.copy()\n",
        "    # skewed_images, label = p.sample(10)\n",
        "    # os.chdir(r'/content/drive/MyDrive/Open Lab/Datasets 1/' + userName)\n",
        "    # for i in range(len(skewed_images)):\n",
        "    #     filename = \"skewed_\" + userName + \"_\" + str(i) + \".jpg\"\n",
        "    #     cv2.imwrite(filename, skewed_images[i])\n",
        "\n",
        "# Black and White \n",
        "def bwImage(imagePath, userName):\n",
        "    p = Augmentor.Pipeline(imagePath)\n",
        "    p.black_and_white(probability = 1, threshold = 255)\n",
        "    old_image = cv2.imread(imagePath)\n",
        "    # image = old_image.copy()\n",
        "    # bwImages, label = p.process()\n",
        "    # os.chdir(r'/content/drive/MyDrive/Open Lab/Datasets 1/' + userName)\n",
        "    # for i in range(len(bwImages)):\n",
        "    #     filename = \"bw_\" + userName + \"_\" + str(i) + \".jpg\"\n",
        "    #     cv2.imwrite(filename, bwImages[0])\n",
        "  \n",
        "# Initialize pipeline\n",
        "def usePipeline(imagePath, userName):\n",
        "    p = Augmentor.Pipeline(imagePath)\n",
        "    p1 = Augmentor.Pipeline(imagePath)\n",
        "    p2 = Augmentor.Pipeline(imagePath)\n",
        "    p3 = Augmentor.Pipeline(imagePath)\n",
        "    p4 = Augmentor.Pipeline(imagePath)\n",
        "    \n",
        "    p.rotate(1, 15, 15)\n",
        "    p1.flip_left_right(probability = 1)\n",
        "    p2.shear(probability = 1, max_shear_left = 15, max_shear_right = 15)\n",
        "    p3.skew(probability = 1, magnitude = 0.7)\n",
        "    p4.black_and_white(probability = 1, threshold = 64)\n",
        "\n",
        "    p.sample(10)\n",
        "    p1.sample(4)\n",
        "    p2.sample(25)\n",
        "    p3.sample(25)\n",
        "    p4.sample(5)"
      ],
      "execution_count": 1,
      "outputs": []
    },
    {
      "cell_type": "markdown",
      "metadata": {
        "id": "WEouG7ZI4wxe"
      },
      "source": [
        "# **Function to move output photos**"
      ]
    },
    {
      "cell_type": "code",
      "metadata": {
        "id": "D9E0xcw3G4M1"
      },
      "source": [
        "import shutil\n",
        "\n",
        "def movePhotos(destination, name):\n",
        "  imagePaths = list(paths.list_images(r\"/content/drive/MyDrive/Open Lab/New Datasets 1/output\"))\n",
        "  for imagePath in imagePaths:\n",
        "    shutil.move(imagePath, destination)\n",
        "  \n",
        "  print(\"Moved all files.\\n\")\n",
        "  delPath = '/content/drive/MyDrive/Open Lab/New Datasets 1/' + name\n",
        "  shutil.rmtree(delPath)"
      ],
      "execution_count": 2,
      "outputs": []
    },
    {
      "cell_type": "markdown",
      "metadata": {
        "id": "_njatv58BG9R"
      },
      "source": [
        "## **Driver Program for Data Augmentation**"
      ]
    },
    {
      "cell_type": "code",
      "metadata": {
        "id": "neFgMn6vAbZf",
        "colab": {
          "base_uri": "https://localhost:8080/"
        },
        "outputId": "3edc914c-49f5-444a-8376-1454ee75c0bc"
      },
      "source": [
        "import os\n",
        "\n",
        "imagePaths = list(paths.list_images(r\"/content/drive/MyDrive/Open Lab/New Datasets 1\"))\n",
        "# imgPath = list(paths.list_images(r'/content/drive/MyDrive/Open Lab/Datasets/Vikas'))\n",
        "\n",
        "name = firestoreName()\n",
        "os.mkdir(r'/content/drive/MyDrive/Open Lab/Datasets 1/' + name)\n",
        "imgPath = \"/content/drive/MyDrive/Open Lab/New Datasets 1/\" + name\n",
        "count = 0\n",
        "\n",
        "for imagePath in imagePaths:\n",
        "\n",
        "    # Perform data augmentation\n",
        "    \n",
        "    blurImage(imagePath, name, count)\n",
        "    sharpenImage(imagePath, name, count)\n",
        "    sepiaImage(imagePath, name, count)\n",
        "    brightImage(imagePath, name, count)\n",
        "\n",
        "    count += 1\n",
        "    \n",
        "# shearImage(imgPath, name)\n",
        "# skewedImage(imgPath, name)\n",
        "# bwImage(imgPath, name)\n",
        "# tiltedImage(imgPath, name)\n",
        "# mirrorImage(imgPath, name)\n",
        "\n",
        "usePipeline(imgPath, name)\n",
        "\n",
        "print(\"\\nDone with all images.\\n\")\n",
        "\n",
        "destination = '/content/drive/MyDrive/Open Lab/Datasets 1/' + name\n",
        "movePhotos(destination, name)\n",
        "print('\\nDeleted new datasets after moving.\\n')"
      ],
      "execution_count": 3,
      "outputs": [
        {
          "output_type": "stream",
          "text": [
            "Initialised with 21 image(s) found.\n",
            "Output directory set to /content/drive/MyDrive/Open Lab/New Datasets 1/Yash/output.Initialised with 21 image(s) found.\n",
            "Output directory set to /content/drive/MyDrive/Open Lab/New Datasets 1/Yash/output.Initialised with 21 image(s) found.\n",
            "Output directory set to /content/drive/MyDrive/Open Lab/New Datasets 1/Yash/output.Initialised with 21 image(s) found.\n",
            "Output directory set to /content/drive/MyDrive/Open Lab/New Datasets 1/Yash/output."
          ],
          "name": "stdout"
        },
        {
          "output_type": "stream",
          "text": [
            "\rExecuting Pipeline:   0%|          | 0/10 [00:00<?, ? Samples/s]"
          ],
          "name": "stderr"
        },
        {
          "output_type": "stream",
          "text": [
            "Initialised with 21 image(s) found.\n",
            "Output directory set to /content/drive/MyDrive/Open Lab/New Datasets 1/Yash/output."
          ],
          "name": "stdout"
        },
        {
          "output_type": "stream",
          "text": [
            "Processing <PIL.Image.Image image mode=RGB size=3264x2448 at 0x7F0D56B87510>: 100%|██████████| 10/10 [00:05<00:00,  1.94 Samples/s]\n",
            "Processing <PIL.Image.Image image mode=RGB size=864x1152 at 0x7F0D58DE6A10>: 100%|██████████| 4/4 [00:01<00:00,  3.60 Samples/s]\n",
            "Processing <PIL.Image.Image image mode=RGB size=1056x1225 at 0x7F0D58E2B9D0>: 100%|██████████| 25/25 [00:16<00:00,  1.54 Samples/s]\n",
            "Processing <PIL.Image.Image image mode=RGB size=768x1024 at 0x7F0D56B8C0D0>: 100%|██████████| 25/25 [00:14<00:00,  1.76 Samples/s]\n",
            "Processing <PIL.Image.Image image mode=1 size=3264x2448 at 0x7F0D58E3BE10>: 100%|██████████| 5/5 [00:00<00:00,  8.05 Samples/s]\n"
          ],
          "name": "stderr"
        },
        {
          "output_type": "stream",
          "text": [
            "\n",
            "Done with all images.\n",
            "\n",
            "Moved all files.\n",
            "\n",
            "\n",
            "Deleted new datasets after moving.\n",
            "\n"
          ],
          "name": "stdout"
        }
      ]
    },
    {
      "cell_type": "code",
      "metadata": {
        "id": "dsGpQlzRD3Zt"
      },
      "source": [
        ""
      ],
      "execution_count": null,
      "outputs": []
    }
  ]
}